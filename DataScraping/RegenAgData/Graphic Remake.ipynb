{
 "cells": [
  {
   "cell_type": "markdown",
   "metadata": {},
   "source": [
    "# Graphic Remake\n",
    "A deeper look at what the graphic in [this study](https://foodrevolution.org/blog/meat-dairy-greenhouse-gases/) is actually saying."
   ]
  },
  {
   "cell_type": "code",
   "execution_count": 2,
   "metadata": {},
   "outputs": [],
   "source": [
    "# load packages\n",
    "import numpy as np\n",
    "import pandas as pd\n",
    "import matplotlib.pyplot as plt\n",
    "import seaborn as sns"
   ]
  },
  {
   "cell_type": "code",
   "execution_count": 3,
   "metadata": {},
   "outputs": [
    {
     "data": {
      "text/html": [
       "<div>\n",
       "<style scoped>\n",
       "    .dataframe tbody tr th:only-of-type {\n",
       "        vertical-align: middle;\n",
       "    }\n",
       "\n",
       "    .dataframe tbody tr th {\n",
       "        vertical-align: top;\n",
       "    }\n",
       "\n",
       "    .dataframe thead th {\n",
       "        text-align: right;\n",
       "    }\n",
       "</style>\n",
       "<table border=\"1\" class=\"dataframe\">\n",
       "  <thead>\n",
       "    <tr style=\"text-align: right;\">\n",
       "      <th></th>\n",
       "      <th>company</th>\n",
       "      <th>mt</th>\n",
       "    </tr>\n",
       "  </thead>\n",
       "  <tbody>\n",
       "    <tr>\n",
       "      <th>0</th>\n",
       "      <td>Fonterra</td>\n",
       "      <td>41.5</td>\n",
       "    </tr>\n",
       "    <tr>\n",
       "      <th>1</th>\n",
       "      <td>DFoA</td>\n",
       "      <td>52.2</td>\n",
       "    </tr>\n",
       "    <tr>\n",
       "      <th>2</th>\n",
       "      <td>Cargill</td>\n",
       "      <td>86.3</td>\n",
       "    </tr>\n",
       "    <tr>\n",
       "      <th>3</th>\n",
       "      <td>Tyson Foods</td>\n",
       "      <td>118.1</td>\n",
       "    </tr>\n",
       "    <tr>\n",
       "      <th>4</th>\n",
       "      <td>JBS</td>\n",
       "      <td>280.2</td>\n",
       "    </tr>\n",
       "    <tr>\n",
       "      <th>5</th>\n",
       "      <td>Exxon-Mobil</td>\n",
       "      <td>577.0</td>\n",
       "    </tr>\n",
       "    <tr>\n",
       "      <th>6</th>\n",
       "      <td>Shell</td>\n",
       "      <td>508.0</td>\n",
       "    </tr>\n",
       "    <tr>\n",
       "      <th>7</th>\n",
       "      <td>BP</td>\n",
       "      <td>448.0</td>\n",
       "    </tr>\n",
       "  </tbody>\n",
       "</table>\n",
       "</div>"
      ],
      "text/plain": [
       "       company     mt\n",
       "0     Fonterra   41.5\n",
       "1         DFoA   52.2\n",
       "2      Cargill   86.3\n",
       "3  Tyson Foods  118.1\n",
       "4          JBS  280.2\n",
       "5  Exxon-Mobil  577.0\n",
       "6        Shell  508.0\n",
       "7           BP  448.0"
      ]
     },
     "execution_count": 3,
     "metadata": {},
     "output_type": "execute_result"
    }
   ],
   "source": [
    "# recreate the data\n",
    "# emisions in mt\n",
    "df = pd.DataFrame(columns=['company', 'mt'])\n",
    "\n",
    "df.mt = [41.5, 52.2, 86.3, 118.1, 280.2, 577, 508, 448]\n",
    "\n",
    "df.company = ['Fonterra', 'DFoA', 'Cargill', \n",
    "            'Tyson Foods', 'JBS', 'Exxon-Mobil', 'Shell', 'BP']\n",
    "\n",
    "df"
   ]
  },
  {
   "cell_type": "code",
   "execution_count": 52,
   "metadata": {},
   "outputs": [
    {
     "data": {
      "image/png": "[encoded data removed]",
      "text/plain": [
       "<Figure size 576x432 with 1 Axes>"
      ]
     },
     "metadata": {
      "needs_background": "light"
     },
     "output_type": "display_data"
    }
   ],
   "source": [
    "# set colors\n",
    "def colors_from_values(values, palette_name):\n",
    "    # normalize the values to range [0, 1]\n",
    "    normalized = (values - min(values)) / (max(values) - min(values))\n",
    "    # convert to indices\n",
    "    indices = np.round(normalized * (len(values) - 1)).astype(np.int32)\n",
    "    # use the indices to get the colors\n",
    "    palette = sns.color_palette(palette_name, len(values))\n",
    "    return np.array(palette).take(indices, axis=0)\n",
    "\n",
    "# easier to match colors this way\n",
    "clrs = ['bluegrey', 'bluegrey', 'darkviolet', 'darkviolet', \n",
    "        'darkviolet', 'grey', 'grey']\n",
    "\n",
    "# create plot\n",
    "plt.figure(figsize=(8, 6))\n",
    "foodplt = sns.barplot(x=\"company\",y=\"mt\",data=df);\n",
    "\n",
    "# final option on colors\n",
    "for bar in foodplt.patches:\n",
    "    if bar.get_height() > 400:\n",
    "        bar.set_color('grey')\n",
    "    elif bar.get_height() > 80 and bar.get_height() < 300:\n",
    "        bar.set_color('maroon')\n",
    "    else:\n",
    "        bar.set_color('blue')\n",
    "\n",
    "# label bars\n",
    "for p in foodplt.patches:\n",
    "    foodplt.annotate(format(p.get_height(), '.1f'), \n",
    "                   (p.get_x() + p.get_width() / 2., p.get_height()), \n",
    "                   ha = 'center', va = 'center', \n",
    "                   size=15,\n",
    "                   xytext = (0, -12), \n",
    "                   textcoords = 'offset points')\n",
    "\n",
    "#fix labels    \n",
    "foodplt.axes.get_yaxis().set_visible(False)\n",
    "foodplt.spines['top'].set_visible(False)\n",
    "foodplt.spines['right'].set_visible(False)\n",
    "foodplt.spines['bottom'].set_visible(True)\n",
    "foodplt.spines['left'].set_visible(False)\n",
    "plt.xticks(rotation=45)\n",
    "plt.xlabel('');\n",
    "\n"
   ]
  },
  {
   "cell_type": "code",
   "execution_count": 56,
   "metadata": {},
   "outputs": [],
   "source": [
    "foodplt.figure.savefig(\"foodRevolutionNetworkFigRecreate.png\")"
   ]
  },
  {
   "cell_type": "code",
   "execution_count": null,
   "metadata": {},
   "outputs": [],
   "source": []
  }
 ],
 "metadata": {
  "kernelspec": {
   "display_name": "Python 3",
   "language": "python",
   "name": "python3"
  },
  "language_info": {
   "codemirror_mode": {
    "name": "ipython",
    "version": 3
   },
   "file_extension": ".py",
   "mimetype": "text/x-python",
   "name": "python",
   "nbconvert_exporter": "python",
   "pygments_lexer": "ipython3",
   "version": "3.8.3"
  }
 },
 "nbformat": 4,
 "nbformat_minor": 4
}
