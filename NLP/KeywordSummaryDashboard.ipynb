{
 "cells": [
  {
   "cell_type": "markdown",
   "metadata": {
    "extensions": {
     "jupyter_dashboards": {
      "version": 1,
      "views": {
       "grid_default": {},
       "report_default": {
        "hidden": false
       }
      }
     }
    }
   },
   "source": [
    "# Keyword and Summary Dashboard"
   ]
  },
  {
   "cell_type": "code",
   "execution_count": null,
   "metadata": {},
   "outputs": [],
   "source": [
    "#pip install -r requirements.txt --no-index --find-links file:///tmp/packages"
   ]
  },
  {
   "cell_type": "code",
   "execution_count": 1,
   "metadata": {
    "extensions": {
     "jupyter_dashboards": {
      "version": 1,
      "views": {
       "grid_default": {},
       "report_default": {
        "hidden": false
       }
      }
     }
    },
    "scrolled": true
   },
   "outputs": [],
   "source": [
    "# load functions\n",
    "# Load the \"autoreload\" extension\n",
    "%load_ext autoreload\n",
    "# Always reload all modules (except those excluded by %aimport)\n",
    "%autoreload 2\n",
    "import os\n",
    "import sys\n",
    "from pathlib import Path\n",
    "import utils\n",
    "import validators\n",
    "\n",
    "import ipywidgets as widgets\n",
    "from ipywidgets import interact, interact_manual"
   ]
  },
  {
   "cell_type": "code",
   "execution_count": 2,
   "metadata": {
    "scrolled": true
   },
   "outputs": [
    {
     "name": "stdout",
     "output_type": "stream",
     "text": [
      "Enter pdf filename or an URL: \n",
      "https://www.forbes.com/sites/eshachhabra/2021/01/31/chocolate-brand-looks-to-carbon-insetting-to-transition-farmers-to-regenerative-agriculture/?sh=7244f5017e7b\n"
     ]
    },
    {
     "data": {
      "text/plain": [
       "['cacao',\n",
       " 'car',\n",
       " 'farmer',\n",
       " 'says',\n",
       " 'carbon',\n",
       " 'forest',\n",
       " 'regenerative',\n",
       " 'social',\n",
       " 'crop',\n",
       " 'impact']"
      ]
     },
     "execution_count": 2,
     "metadata": {},
     "output_type": "execute_result"
    }
   ],
   "source": [
    "#Provide pdf file name or url. If no filename or url is provided ask again\n",
    "#check if the provided is an url or pdf file. If none, print error message\n",
    "file_url=''\n",
    "file_url= input('Enter pdf filename or an URL: \\n')\n",
    "# works: https://www.klei.com/games/dont-starve-together\n",
    "# doesn't work: \n",
    "\n",
    "while file_url == '':\n",
    "    file_url = input('No pdf filename or url provided, please provide one: \\n')\n",
    "    \n",
    "if validators.url(file_url) == True:\n",
    "    text=utils.convert_url_to_string(file_url)\n",
    "elif file_url[-3:]=='pdf':\n",
    "    text=utils.convert_pdf_to_string(DATA_PATH_IN/file_url)\n",
    "    print('Total number of pages in this PDF are: {}'.format(utils.total_num_pages(DATA_PATH_IN,file_url))) # will give total number of pages in pdf\n",
    "else:\n",
    "    print (\"Not a valid URL or Not a PDF file\")\n",
    "    \n",
    "# summary\n",
    "summary,summary_list=utils.key_summaries(text)\n",
    "# keywords\n",
    "kws,scores,df=utils.keywords_scores(text)\n",
    "# key phrases\n",
    "key_phr,key_phr_score_df=utils.key_phrases_rake(text)\n",
    "\n",
    "# return kws\n",
    "kws"
   ]
  },
  {
   "cell_type": "markdown",
   "metadata": {},
   "source": [
    "## Summary "
   ]
  },
  {
   "cell_type": "code",
   "execution_count": 6,
   "metadata": {
    "extensions": {
     "jupyter_dashboards": {
      "version": 1,
      "views": {
       "grid_default": {},
       "report_default": {
        "hidden": false
       }
      }
     }
    },
    "scrolled": true
   },
   "outputs": [
    {
     "data": {
      "text/plain": [
       "['The Savory Institute assumes: (a) sequestration rates that are multiples of peer-reviewed estimates; (b) a constant rate of sequestration over a 40 year period despite the likelihood of it falling over time as the soil approaches carbon equilibrium, after which emissions and removals are balanced; and (c) an area of grassland globally that is 43 per cent higher than the estimate of the Intergovernmental Panel on Climate Change (IPCC).',\n",
       " 'The closest Massy may have come to addressing the previous point was referring to a study published in 2016 into carbon sequestration and greenhouse gas emissions on a New South Wales sheep and cattle farm between 1980 and 2012.',\n",
       " 'In a paper in the journal Science from June 2018, researchers Joseph Poore and Thomas Nemecek indicated that a general transition to an animal-free diet would reduce food production’s land use by 76 per cent or 3.1 billion hectares (31 million square kilometres).',\n",
       " 'An April 2016 study by researchers from the Oxford Martin School (University of Oxford) reported on the health and climate change benefits of changing diets, including reduced consumption of animal products.']"
      ]
     },
     "execution_count": 6,
     "metadata": {},
     "output_type": "execute_result"
    }
   ],
   "source": [
    "summary_list"
   ]
  },
  {
   "cell_type": "markdown",
   "metadata": {},
   "source": [
    "## Key Phrases"
   ]
  },
  {
   "cell_type": "code",
   "execution_count": 7,
   "metadata": {
    "extensions": {
     "jupyter_dashboards": {
      "version": 1,
      "views": {
       "grid_default": {},
       "report_default": {
        "hidden": false
       }
      }
     }
    }
   },
   "outputs": [
    {
     "data": {
      "text/plain": [
       "['nc tedx canberra divergence charles massy https www youtube com watch v kimei gokq creative commons attribution license reuse allowed green building alliance inspire speakers series may paul hawken flickr cc',\n",
       " 'feedlot cattle j anim sci http www ncbi nlm nih gov pubmed https academic oup com jas article http www journalofanimalscience org content full pdf eshel g grass fed beef packs',\n",
       " 'tertiary education national inventory report vol australian national greenhouse accounts p http www environment gov au climate change climate science data greenhouse gas measurement publications national inventory report mekonnen',\n",
       " 'socialist renewal october http links org au node drawdown food managed grazing https www drawdown org solutions food managed grazing hawken p editor op cit p',\n",
       " 'human health published nov https www youtube com watch v et ykbivhae massy charles op cit p abc rn late night live',\n",
       " 'queensland abc rn breakfast th september https www abc net au radionational programs breakfast australias brigalow forests almost gone cassidy e',\n",
       " 'aquaculture world bank report number glb december table p http documents worldbank org curated en pdf wp p es fish',\n",
       " 'http www umn edu news news releases ur_content_ html alon shepon gidon eshel elad noor ron milo',\n",
       " 'prospective cohort studies arch intern med doi archinternmed http jamanetwork com journals jamainternalmedicine fullarticle bakalar n risks',\n",
       " 'environment categories climate change environment sustainability tags climate climate change livestock massy regenerative agriculture regenerative grazing savory sequestration view comments planetary vegan back']"
      ]
     },
     "execution_count": 7,
     "metadata": {},
     "output_type": "execute_result"
    }
   ],
   "source": [
    "key_phr"
   ]
  },
  {
   "cell_type": "markdown",
   "metadata": {},
   "source": [
    "## Keywords"
   ]
  },
  {
   "cell_type": "code",
   "execution_count": 8,
   "metadata": {
    "extensions": {
     "jupyter_dashboards": {
      "version": 1,
      "views": {
       "grid_default": {},
       "report_default": {
        "hidden": true
       }
      }
     }
    },
    "scrolled": true
   },
   "outputs": [
    {
     "ename": "NameError",
     "evalue": "name 'kws' is not defined",
     "output_type": "error",
     "traceback": [
      "\u001b[1;31m---------------------------------------------------------------------------\u001b[0m",
      "\u001b[1;31mNameError\u001b[0m                                 Traceback (most recent call last)",
      "\u001b[1;32m<ipython-input-8-34633d69c209>\u001b[0m in \u001b[0;36m<module>\u001b[1;34m\u001b[0m\n\u001b[1;32m----> 1\u001b[1;33m \u001b[0mkws\u001b[0m\u001b[1;33m\u001b[0m\u001b[1;33m\u001b[0m\u001b[0m\n\u001b[0m",
      "\u001b[1;31mNameError\u001b[0m: name 'kws' is not defined"
     ]
    }
   ],
   "source": [
    "kws"
   ]
  },
  {
   "cell_type": "code",
   "execution_count": 12,
   "metadata": {},
   "outputs": [],
   "source": [
    "text = '''\n",
    "\n",
    "\n",
    "Background\n",
    "Sale of organic foods is one of the fastest growing market segments within the global food industry. People often buy organic food because they believe organic farms produce more nutritious and better tasting food from healthier soils. Here we tested if there are significant differences in fruit and soil quality from 13 pairs of commercial organic and conventional strawberry agroecosystems in California.\n",
    "\n",
    "Methodology/Principal Findings\n",
    "At multiple sampling times for two years, we evaluated three varieties of strawberries for mineral elements, shelf life, phytochemical composition, and organoleptic properties. We also analyzed traditional soil properties and soil DNA using microarray technology. We found that the organic farms had strawberries with longer shelf life, greater dry matter, and higher antioxidant activity and concentrations of ascorbic acid and phenolic compounds, but lower concentrations of phosphorus and potassium. In one variety, sensory panels judged organic strawberries to be sweeter and have better flavor, overall acceptance, and appearance than their conventional counterparts. We also found the organically farmed soils to have more total carbon and nitrogen, greater microbial biomass and activity, and higher concentrations of micronutrients. Organically farmed soils also exhibited greater numbers of endemic genes and greater functional gene abundance and diversity for several biogeochemical processes, such as nitrogen fixation and pesticide degradation.\n",
    "\n",
    "Conclusions/Significance\n",
    "Our findings show that the organic strawberry farms produced higher quality fruit and that their higher quality soils may have greater microbial functional capability and resilience to stress. These findings justify additional investigations aimed at detecting and quantifying such effects and their interactions.\n",
    "\n",
    "\n",
    "'''"
   ]
  },
  {
   "cell_type": "code",
   "execution_count": 13,
   "metadata": {},
   "outputs": [],
   "source": [
    "# summary\n",
    "summary,summary_list=utils.key_summaries(text)\n",
    "# keywords\n",
    "kws,scores,df=utils.keywords_scores(text)\n",
    "# key phrases\n",
    "key_phr,key_phr_score_df=utils.key_phrases_rake(text)"
   ]
  },
  {
   "cell_type": "code",
   "execution_count": 14,
   "metadata": {},
   "outputs": [
    {
     "data": {
      "text/plain": [
       "['greater',\n",
       " 'food',\n",
       " 'higher',\n",
       " 'strawberries',\n",
       " 'shelf',\n",
       " 'microbial',\n",
       " 'life',\n",
       " 'organically farmed',\n",
       " 'sampling',\n",
       " 'degradation']"
      ]
     },
     "execution_count": 14,
     "metadata": {},
     "output_type": "execute_result"
    }
   ],
   "source": [
    "kws"
   ]
  },
  {
   "cell_type": "code",
   "execution_count": 15,
   "metadata": {
    "scrolled": true
   },
   "outputs": [
    {
     "data": {
      "text/plain": [
       "['global food industry people often buy organic food',\n",
       " 'micronutrients organically farmed soils also exhibited greater numbers',\n",
       " 'one variety sensory panels judged organic strawberries',\n",
       " 'mineral elements shelf life phytochemical composition',\n",
       " 'longer shelf life greater dry matter',\n",
       " 'organic strawberry farms produced higher quality fruit',\n",
       " 'fastest growing market segments within',\n",
       " 'soil dna using microarray technology',\n",
       " 'findings justify additional investigations aimed',\n",
       " 'also analyzed traditional soil properties']"
      ]
     },
     "execution_count": 15,
     "metadata": {},
     "output_type": "execute_result"
    }
   ],
   "source": [
    "key_phr"
   ]
  },
  {
   "cell_type": "code",
   "execution_count": null,
   "metadata": {},
   "outputs": [],
   "source": []
  }
 ],
 "metadata": {
  "extensions": {
   "jupyter_dashboards": {
    "activeView": "report_default",
    "version": 1,
    "views": {
     "grid_default": {
      "cellMargin": 10,
      "defaultCellHeight": 20,
      "maxColumns": 12,
      "name": "grid",
      "type": "grid"
     },
     "report_default": {
      "name": "report",
      "type": "report"
     }
    }
   }
  },
  "kernelspec": {
   "display_name": "Python 3",
   "language": "python",
   "name": "python3"
  },
  "language_info": {
   "codemirror_mode": {
    "name": "ipython",
    "version": 3
   },
   "file_extension": ".py",
   "mimetype": "text/x-python",
   "name": "python",
   "nbconvert_exporter": "python",
   "pygments_lexer": "ipython3",
   "version": "3.8.3"
  }
 },
 "nbformat": 4,
 "nbformat_minor": 4
}
