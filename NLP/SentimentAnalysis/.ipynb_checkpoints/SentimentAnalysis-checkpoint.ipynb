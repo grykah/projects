{
 "cells": [
  {
   "cell_type": "markdown",
   "metadata": {},
   "source": [
    "# Sentiment Analysis\n",
    "The goal of this notebook is to scrap an API endpoint for regenerative ag data and present it as an interactive plot."
   ]
  },
  {
   "cell_type": "markdown",
   "metadata": {},
   "source": [
    "## Table of Contents\n",
    "1. Get data from reddit regarding regenerative agriculture\n",
    "2. Analyze data with plotly \n",
    "3. Top Comments over the past week\n",
    "4. Sentiment over time\n",
    "5. Summary"
   ]
  },
  {
   "cell_type": "markdown",
   "metadata": {},
   "source": [
    "## Get data from reddit regenerative agriculture (or any other) keyword\n"
   ]
  },
  {
   "cell_type": "code",
   "execution_count": 1,
   "metadata": {},
   "outputs": [],
   "source": [
    "# load packages\n",
    "import requests"
   ]
  },
  {
   "cell_type": "code",
   "execution_count": 2,
   "metadata": {},
   "outputs": [],
   "source": [
    "# create function to get info \n",
    "def get_pushshift_data(data_type, **kwargs):\n",
    "    \"\"\" \n",
    "    Gets data from the pushshift api.\n",
    "    data_type can be 'comment' or 'submission'\n",
    "    other args are interpreted as payload.\n",
    "    Read more: https://github.com/pushshift/api\n",
    "    \"\"\"\n",
    "    base_url = f\"https://api.pushshift.io/reddit/search/{data_type}/\"\n",
    "    payload = kwargs\n",
    "    request = requests.get(base_url, params=payload)\n",
    "    return request.json()"
   ]
  },
  {
   "cell_type": "code",
   "execution_count": 92,
   "metadata": {},
   "outputs": [],
   "source": [
    "# use example\n",
    "get_pushshift_data(data_type=\"comment\",           # give me comments\n",
    "                   q=\"organic\",                   # that mention 'organic'\n",
    "                   after=\"1y\",                    # in the last year\n",
    "                   size=1000,                     # maximum 1000 comments\n",
    "                   sort_type=\"score\",             # sort them by score\n",
    "                   sort=\"desc\",                   # sort descending\n",
    "                   aggs=\"subreddit\")              # groups result by subreddit"
   ]
  },
  {
   "cell_type": "markdown",
   "metadata": {},
   "source": [
    "## Analyze data with plotly"
   ]
  },
  {
   "cell_type": "code",
   "execution_count": 3,
   "metadata": {},
   "outputs": [],
   "source": [
    "# load packages for this step\n",
    "import pandas as pd\n",
    "import plotly.express as px"
   ]
  },
  {
   "cell_type": "code",
   "execution_count": 53,
   "metadata": {},
   "outputs": [],
   "source": [
    "data = get_pushshift_data(data_type=\"comment\",\n",
    "                          q=\"regenerative agriculture\",\n",
    "                          after=\"1y\",\n",
    "                          size=1000,\n",
    "                          #aggs=\"subreddit\"\n",
    "                         ).get(\"data\")\n",
    "# data"
   ]
  },
  {
   "cell_type": "code",
   "execution_count": 54,
   "metadata": {},
   "outputs": [],
   "source": [
    "# type(data)"
   ]
  },
  {
   "cell_type": "code",
   "execution_count": 55,
   "metadata": {},
   "outputs": [],
   "source": [
    "# change list to pandas df\n",
    "df = pd.DataFrame(data)\n",
    "# view table\n",
    "# df.head(10)"
   ]
  },
  {
   "cell_type": "code",
   "execution_count": 56,
   "metadata": {},
   "outputs": [],
   "source": [
    "# get col names to make sure they are called correctly\n",
    "# df.columns"
   ]
  },
  {
   "cell_type": "code",
   "execution_count": 40,
   "metadata": {},
   "outputs": [],
   "source": [
    "# group by subreddit and count times subreddit appears\n",
    "df['count'] = 1\n",
    "min_df = df[['subreddit', 'count']]\n",
    "grouped_df = min_df.groupby(['subreddit']).sum()\n",
    "grouped_df = grouped_df.sort_values(by=['count'], ascending=False)[0:10]"
   ]
  },
  {
   "cell_type": "code",
   "execution_count": 57,
   "metadata": {},
   "outputs": [],
   "source": [
    "grouped_df = grouped_df.reset_index()\n",
    "# grouped_df.columns"
   ]
  },
  {
   "cell_type": "code",
   "execution_count": 42,
   "metadata": {},
   "outputs": [
    {
     "data": {
      "application/vnd.plotly.v1+json": {
       "config": {
        "plotlyServerURL": "https://plot.ly"
       },
       "data": [
        {
         "alignmentgroup": "True",
         "hovertemplate": "subreddit=%{x}<br>count=%{y}<extra></extra>",
         "legendgroup": "",
         "marker": {
          "color": "blueviolet"
         },
         "name": "",
         "offsetgroup": "",
         "orientation": "v",
         "showlegend": false,
         "textposition": "auto",
         "type": "bar",
         "x": [
          "worldnews",
          "environment",
          "collapse",
          "science",
          "DebateAVegan",
          "Futurology",
          "YangForPresidentHQ",
          "AskReddit",
          "FriendlyRivalry",
          "technology"
         ],
         "xaxis": "x",
         "y": [
          8,
          7,
          5,
          5,
          5,
          4,
          4,
          4,
          3,
          3
         ],
         "yaxis": "y"
        }
       ],
       "layout": {
        "barmode": "relative",
        "height": 500,
        "legend": {
         "tracegroupgap": 0
        },
        "template": {
         "data": {
          "bar": [
           {
            "error_x": {
             "color": "#2a3f5f"
            },
            "error_y": {
             "color": "#2a3f5f"
            },
            "marker": {
             "line": {
              "color": "#E5ECF6",
              "width": 0.5
             }
            },
            "type": "bar"
           }
          ],
          "barpolar": [
           {
            "marker": {
             "line": {
              "color": "#E5ECF6",
              "width": 0.5
             }
            },
            "type": "barpolar"
           }
          ],
          "carpet": [
           {
            "aaxis": {
             "endlinecolor": "#2a3f5f",
             "gridcolor": "white",
             "linecolor": "white",
             "minorgridcolor": "white",
             "startlinecolor": "#2a3f5f"
            },
            "baxis": {
             "endlinecolor": "#2a3f5f",
             "gridcolor": "white",
             "linecolor": "white",
             "minorgridcolor": "white",
             "startlinecolor": "#2a3f5f"
            },
            "type": "carpet"
           }
          ],
          "choropleth": [
           {
            "colorbar": {
             "outlinewidth": 0,
             "ticks": ""
            },
            "type": "choropleth"
           }
          ],
          "contour": [
           {
            "colorbar": {
             "outlinewidth": 0,
             "ticks": ""
            },
            "colorscale": [
             [
              0,
              "#0d0887"
             ],
             [
              0.1111111111111111,
              "#46039f"
             ],
             [
              0.2222222222222222,
              "#7201a8"
             ],
             [
              0.3333333333333333,
              "#9c179e"
             ],
             [
              0.4444444444444444,
              "#bd3786"
             ],
             [
              0.5555555555555556,
              "#d8576b"
             ],
             [
              0.6666666666666666,
              "#ed7953"
             ],
             [
              0.7777777777777778,
              "#fb9f3a"
             ],
             [
              0.8888888888888888,
              "#fdca26"
             ],
             [
              1,
              "#f0f921"
             ]
            ],
            "type": "contour"
           }
          ],
          "contourcarpet": [
           {
            "colorbar": {
             "outlinewidth": 0,
             "ticks": ""
            },
            "type": "contourcarpet"
           }
          ],
          "heatmap": [
           {
            "colorbar": {
             "outlinewidth": 0,
             "ticks": ""
            },
            "colorscale": [
             [
              0,
              "#0d0887"
             ],
             [
              0.1111111111111111,
              "#46039f"
             ],
             [
              0.2222222222222222,
              "#7201a8"
             ],
             [
              0.3333333333333333,
              "#9c179e"
             ],
             [
              0.4444444444444444,
              "#bd3786"
             ],
             [
              0.5555555555555556,
              "#d8576b"
             ],
             [
              0.6666666666666666,
              "#ed7953"
             ],
             [
              0.7777777777777778,
              "#fb9f3a"
             ],
             [
              0.8888888888888888,
              "#fdca26"
             ],
             [
              1,
              "#f0f921"
             ]
            ],
            "type": "heatmap"
           }
          ],
          "heatmapgl": [
           {
            "colorbar": {
             "outlinewidth": 0,
             "ticks": ""
            },
            "colorscale": [
             [
              0,
              "#0d0887"
             ],
             [
              0.1111111111111111,
              "#46039f"
             ],
             [
              0.2222222222222222,
              "#7201a8"
             ],
             [
              0.3333333333333333,
              "#9c179e"
             ],
             [
              0.4444444444444444,
              "#bd3786"
             ],
             [
              0.5555555555555556,
              "#d8576b"
             ],
             [
              0.6666666666666666,
              "#ed7953"
             ],
             [
              0.7777777777777778,
              "#fb9f3a"
             ],
             [
              0.8888888888888888,
              "#fdca26"
             ],
             [
              1,
              "#f0f921"
             ]
            ],
            "type": "heatmapgl"
           }
          ],
          "histogram": [
           {
            "marker": {
             "colorbar": {
              "outlinewidth": 0,
              "ticks": ""
             }
            },
            "type": "histogram"
           }
          ],
          "histogram2d": [
           {
            "colorbar": {
             "outlinewidth": 0,
             "ticks": ""
            },
            "colorscale": [
             [
              0,
              "#0d0887"
             ],
             [
              0.1111111111111111,
              "#46039f"
             ],
             [
              0.2222222222222222,
              "#7201a8"
             ],
             [
              0.3333333333333333,
              "#9c179e"
             ],
             [
              0.4444444444444444,
              "#bd3786"
             ],
             [
              0.5555555555555556,
              "#d8576b"
             ],
             [
              0.6666666666666666,
              "#ed7953"
             ],
             [
              0.7777777777777778,
              "#fb9f3a"
             ],
             [
              0.8888888888888888,
              "#fdca26"
             ],
             [
              1,
              "#f0f921"
             ]
            ],
            "type": "histogram2d"
           }
          ],
          "histogram2dcontour": [
           {
            "colorbar": {
             "outlinewidth": 0,
             "ticks": ""
            },
            "colorscale": [
             [
              0,
              "#0d0887"
             ],
             [
              0.1111111111111111,
              "#46039f"
             ],
             [
              0.2222222222222222,
              "#7201a8"
             ],
             [
              0.3333333333333333,
              "#9c179e"
             ],
             [
              0.4444444444444444,
              "#bd3786"
             ],
             [
              0.5555555555555556,
              "#d8576b"
             ],
             [
              0.6666666666666666,
              "#ed7953"
             ],
             [
              0.7777777777777778,
              "#fb9f3a"
             ],
             [
              0.8888888888888888,
              "#fdca26"
             ],
             [
              1,
              "#f0f921"
             ]
            ],
            "type": "histogram2dcontour"
           }
          ],
          "mesh3d": [
           {
            "colorbar": {
             "outlinewidth": 0,
             "ticks": ""
            },
            "type": "mesh3d"
           }
          ],
          "parcoords": [
           {
            "line": {
             "colorbar": {
              "outlinewidth": 0,
              "ticks": ""
             }
            },
            "type": "parcoords"
           }
          ],
          "pie": [
           {
            "automargin": true,
            "type": "pie"
           }
          ],
          "scatter": [
           {
            "marker": {
             "colorbar": {
              "outlinewidth": 0,
              "ticks": ""
             }
            },
            "type": "scatter"
           }
          ],
          "scatter3d": [
           {
            "line": {
             "colorbar": {
              "outlinewidth": 0,
              "ticks": ""
             }
            },
            "marker": {
             "colorbar": {
              "outlinewidth": 0,
              "ticks": ""
             }
            },
            "type": "scatter3d"
           }
          ],
          "scattercarpet": [
           {
            "marker": {
             "colorbar": {
              "outlinewidth": 0,
              "ticks": ""
             }
            },
            "type": "scattercarpet"
           }
          ],
          "scattergeo": [
           {
            "marker": {
             "colorbar": {
              "outlinewidth": 0,
              "ticks": ""
             }
            },
            "type": "scattergeo"
           }
          ],
          "scattergl": [
           {
            "marker": {
             "colorbar": {
              "outlinewidth": 0,
              "ticks": ""
             }
            },
            "type": "scattergl"
           }
          ],
          "scattermapbox": [
           {
            "marker": {
             "colorbar": {
              "outlinewidth": 0,
              "ticks": ""
             }
            },
            "type": "scattermapbox"
           }
          ],
          "scatterpolar": [
           {
            "marker": {
             "colorbar": {
              "outlinewidth": 0,
              "ticks": ""
             }
            },
            "type": "scatterpolar"
           }
          ],
          "scatterpolargl": [
           {
            "marker": {
             "colorbar": {
              "outlinewidth": 0,
              "ticks": ""
             }
            },
            "type": "scatterpolargl"
           }
          ],
          "scatterternary": [
           {
            "marker": {
             "colorbar": {
              "outlinewidth": 0,
              "ticks": ""
             }
            },
            "type": "scatterternary"
           }
          ],
          "surface": [
           {
            "colorbar": {
             "outlinewidth": 0,
             "ticks": ""
            },
            "colorscale": [
             [
              0,
              "#0d0887"
             ],
             [
              0.1111111111111111,
              "#46039f"
             ],
             [
              0.2222222222222222,
              "#7201a8"
             ],
             [
              0.3333333333333333,
              "#9c179e"
             ],
             [
              0.4444444444444444,
              "#bd3786"
             ],
             [
              0.5555555555555556,
              "#d8576b"
             ],
             [
              0.6666666666666666,
              "#ed7953"
             ],
             [
              0.7777777777777778,
              "#fb9f3a"
             ],
             [
              0.8888888888888888,
              "#fdca26"
             ],
             [
              1,
              "#f0f921"
             ]
            ],
            "type": "surface"
           }
          ],
          "table": [
           {
            "cells": {
             "fill": {
              "color": "#EBF0F8"
             },
             "line": {
              "color": "white"
             }
            },
            "header": {
             "fill": {
              "color": "#C8D4E3"
             },
             "line": {
              "color": "white"
             }
            },
            "type": "table"
           }
          ]
         },
         "layout": {
          "annotationdefaults": {
           "arrowcolor": "#2a3f5f",
           "arrowhead": 0,
           "arrowwidth": 1
          },
          "coloraxis": {
           "colorbar": {
            "outlinewidth": 0,
            "ticks": ""
           }
          },
          "colorscale": {
           "diverging": [
            [
             0,
             "#8e0152"
            ],
            [
             0.1,
             "#c51b7d"
            ],
            [
             0.2,
             "#de77ae"
            ],
            [
             0.3,
             "#f1b6da"
            ],
            [
             0.4,
             "#fde0ef"
            ],
            [
             0.5,
             "#f7f7f7"
            ],
            [
             0.6,
             "#e6f5d0"
            ],
            [
             0.7,
             "#b8e186"
            ],
            [
             0.8,
             "#7fbc41"
            ],
            [
             0.9,
             "#4d9221"
            ],
            [
             1,
             "#276419"
            ]
           ],
           "sequential": [
            [
             0,
             "#0d0887"
            ],
            [
             0.1111111111111111,
             "#46039f"
            ],
            [
             0.2222222222222222,
             "#7201a8"
            ],
            [
             0.3333333333333333,
             "#9c179e"
            ],
            [
             0.4444444444444444,
             "#bd3786"
            ],
            [
             0.5555555555555556,
             "#d8576b"
            ],
            [
             0.6666666666666666,
             "#ed7953"
            ],
            [
             0.7777777777777778,
             "#fb9f3a"
            ],
            [
             0.8888888888888888,
             "#fdca26"
            ],
            [
             1,
             "#f0f921"
            ]
           ],
           "sequentialminus": [
            [
             0,
             "#0d0887"
            ],
            [
             0.1111111111111111,
             "#46039f"
            ],
            [
             0.2222222222222222,
             "#7201a8"
            ],
            [
             0.3333333333333333,
             "#9c179e"
            ],
            [
             0.4444444444444444,
             "#bd3786"
            ],
            [
             0.5555555555555556,
             "#d8576b"
            ],
            [
             0.6666666666666666,
             "#ed7953"
            ],
            [
             0.7777777777777778,
             "#fb9f3a"
            ],
            [
             0.8888888888888888,
             "#fdca26"
            ],
            [
             1,
             "#f0f921"
            ]
           ]
          },
          "colorway": [
           "#636efa",
           "#EF553B",
           "#00cc96",
           "#ab63fa",
           "#FFA15A",
           "#19d3f3",
           "#FF6692",
           "#B6E880",
           "#FF97FF",
           "#FECB52"
          ],
          "font": {
           "color": "#2a3f5f"
          },
          "geo": {
           "bgcolor": "white",
           "lakecolor": "white",
           "landcolor": "#E5ECF6",
           "showlakes": true,
           "showland": true,
           "subunitcolor": "white"
          },
          "hoverlabel": {
           "align": "left"
          },
          "hovermode": "closest",
          "mapbox": {
           "style": "light"
          },
          "paper_bgcolor": "white",
          "plot_bgcolor": "#E5ECF6",
          "polar": {
           "angularaxis": {
            "gridcolor": "white",
            "linecolor": "white",
            "ticks": ""
           },
           "bgcolor": "#E5ECF6",
           "radialaxis": {
            "gridcolor": "white",
            "linecolor": "white",
            "ticks": ""
           }
          },
          "scene": {
           "xaxis": {
            "backgroundcolor": "#E5ECF6",
            "gridcolor": "white",
            "gridwidth": 2,
            "linecolor": "white",
            "showbackground": true,
            "ticks": "",
            "zerolinecolor": "white"
           },
           "yaxis": {
            "backgroundcolor": "#E5ECF6",
            "gridcolor": "white",
            "gridwidth": 2,
            "linecolor": "white",
            "showbackground": true,
            "ticks": "",
            "zerolinecolor": "white"
           },
           "zaxis": {
            "backgroundcolor": "#E5ECF6",
            "gridcolor": "white",
            "gridwidth": 2,
            "linecolor": "white",
            "showbackground": true,
            "ticks": "",
            "zerolinecolor": "white"
           }
          },
          "shapedefaults": {
           "line": {
            "color": "#2a3f5f"
           }
          },
          "ternary": {
           "aaxis": {
            "gridcolor": "white",
            "linecolor": "white",
            "ticks": ""
           },
           "baxis": {
            "gridcolor": "white",
            "linecolor": "white",
            "ticks": ""
           },
           "bgcolor": "#E5ECF6",
           "caxis": {
            "gridcolor": "white",
            "linecolor": "white",
            "ticks": ""
           }
          },
          "title": {
           "x": 0.05
          },
          "xaxis": {
           "automargin": true,
           "gridcolor": "white",
           "linecolor": "white",
           "ticks": "",
           "title": {
            "standoff": 15
           },
           "zerolinecolor": "white",
           "zerolinewidth": 2
          },
          "yaxis": {
           "automargin": true,
           "gridcolor": "white",
           "linecolor": "white",
           "ticks": "",
           "title": {
            "standoff": 15
           },
           "zerolinecolor": "white",
           "zerolinewidth": 2
          }
         }
        },
        "title": {
         "text": "Subreddits with 'Regenerative Agriculture' activity over past year"
        },
        "width": 800,
        "xaxis": {
         "anchor": "y",
         "domain": [
          0,
          1
         ],
         "title": {
          "text": "subreddit"
         }
        },
        "yaxis": {
         "anchor": "x",
         "domain": [
          0,
          1
         ],
         "title": {
          "text": "count"
         }
        }
       }
      },
      "text/html": [
       "<div>\n",
       "        \n",
       "        \n",
       "            <div id=\"9e9f77c4-d5e0-437c-837d-64d40b780079\" class=\"plotly-graph-div\" style=\"height:500px; width:800px;\"></div>\n",
       "            <script type=\"text/javascript\">\n",
       "                require([\"plotly\"], function(Plotly) {\n",
       "                    window.PLOTLYENV=window.PLOTLYENV || {};\n",
       "                    \n",
       "                if (document.getElementById(\"9e9f77c4-d5e0-437c-837d-64d40b780079\")) {\n",
       "                    Plotly.newPlot(\n",
       "                        '9e9f77c4-d5e0-437c-837d-64d40b780079',\n",
       "                        [{\"alignmentgroup\": \"True\", \"hovertemplate\": \"subreddit=%{x}<br>count=%{y}<extra></extra>\", \"legendgroup\": \"\", \"marker\": {\"color\": \"blueviolet\"}, \"name\": \"\", \"offsetgroup\": \"\", \"orientation\": \"v\", \"showlegend\": false, \"textposition\": \"auto\", \"type\": \"bar\", \"x\": [\"worldnews\", \"environment\", \"collapse\", \"science\", \"DebateAVegan\", \"Futurology\", \"YangForPresidentHQ\", \"AskReddit\", \"FriendlyRivalry\", \"technology\"], \"xaxis\": \"x\", \"y\": [8, 7, 5, 5, 5, 4, 4, 4, 3, 3], \"yaxis\": \"y\"}],\n",
       "                        {\"barmode\": \"relative\", \"height\": 500, \"legend\": {\"tracegroupgap\": 0}, \"template\": {\"data\": {\"bar\": [{\"error_x\": {\"color\": \"#2a3f5f\"}, \"error_y\": {\"color\": \"#2a3f5f\"}, \"marker\": {\"line\": {\"color\": \"#E5ECF6\", \"width\": 0.5}}, \"type\": \"bar\"}], \"barpolar\": [{\"marker\": {\"line\": {\"color\": \"#E5ECF6\", \"width\": 0.5}}, \"type\": \"barpolar\"}], \"carpet\": [{\"aaxis\": {\"endlinecolor\": \"#2a3f5f\", \"gridcolor\": \"white\", \"linecolor\": \"white\", \"minorgridcolor\": \"white\", \"startlinecolor\": \"#2a3f5f\"}, \"baxis\": {\"endlinecolor\": \"#2a3f5f\", \"gridcolor\": \"white\", \"linecolor\": \"white\", \"minorgridcolor\": \"white\", \"startlinecolor\": \"#2a3f5f\"}, \"type\": \"carpet\"}], \"choropleth\": [{\"colorbar\": {\"outlinewidth\": 0, \"ticks\": \"\"}, \"type\": \"choropleth\"}], \"contour\": [{\"colorbar\": {\"outlinewidth\": 0, \"ticks\": \"\"}, \"colorscale\": [[0.0, \"#0d0887\"], [0.1111111111111111, \"#46039f\"], [0.2222222222222222, \"#7201a8\"], [0.3333333333333333, \"#9c179e\"], [0.4444444444444444, \"#bd3786\"], [0.5555555555555556, \"#d8576b\"], [0.6666666666666666, \"#ed7953\"], [0.7777777777777778, \"#fb9f3a\"], [0.8888888888888888, \"#fdca26\"], [1.0, \"#f0f921\"]], \"type\": \"contour\"}], \"contourcarpet\": [{\"colorbar\": {\"outlinewidth\": 0, \"ticks\": \"\"}, \"type\": \"contourcarpet\"}], \"heatmap\": [{\"colorbar\": {\"outlinewidth\": 0, \"ticks\": \"\"}, \"colorscale\": [[0.0, \"#0d0887\"], [0.1111111111111111, \"#46039f\"], [0.2222222222222222, \"#7201a8\"], [0.3333333333333333, \"#9c179e\"], [0.4444444444444444, \"#bd3786\"], [0.5555555555555556, \"#d8576b\"], [0.6666666666666666, \"#ed7953\"], [0.7777777777777778, \"#fb9f3a\"], [0.8888888888888888, \"#fdca26\"], [1.0, \"#f0f921\"]], \"type\": \"heatmap\"}], \"heatmapgl\": [{\"colorbar\": {\"outlinewidth\": 0, \"ticks\": \"\"}, \"colorscale\": [[0.0, \"#0d0887\"], [0.1111111111111111, \"#46039f\"], [0.2222222222222222, \"#7201a8\"], [0.3333333333333333, \"#9c179e\"], [0.4444444444444444, \"#bd3786\"], [0.5555555555555556, \"#d8576b\"], [0.6666666666666666, \"#ed7953\"], [0.7777777777777778, \"#fb9f3a\"], [0.8888888888888888, \"#fdca26\"], [1.0, \"#f0f921\"]], \"type\": \"heatmapgl\"}], \"histogram\": [{\"marker\": {\"colorbar\": {\"outlinewidth\": 0, \"ticks\": \"\"}}, \"type\": \"histogram\"}], \"histogram2d\": [{\"colorbar\": {\"outlinewidth\": 0, \"ticks\": \"\"}, \"colorscale\": [[0.0, \"#0d0887\"], [0.1111111111111111, \"#46039f\"], [0.2222222222222222, \"#7201a8\"], [0.3333333333333333, \"#9c179e\"], [0.4444444444444444, \"#bd3786\"], [0.5555555555555556, \"#d8576b\"], [0.6666666666666666, \"#ed7953\"], [0.7777777777777778, \"#fb9f3a\"], [0.8888888888888888, \"#fdca26\"], [1.0, \"#f0f921\"]], \"type\": \"histogram2d\"}], \"histogram2dcontour\": [{\"colorbar\": {\"outlinewidth\": 0, \"ticks\": \"\"}, \"colorscale\": [[0.0, \"#0d0887\"], [0.1111111111111111, \"#46039f\"], [0.2222222222222222, \"#7201a8\"], [0.3333333333333333, \"#9c179e\"], [0.4444444444444444, \"#bd3786\"], [0.5555555555555556, \"#d8576b\"], [0.6666666666666666, \"#ed7953\"], [0.7777777777777778, \"#fb9f3a\"], [0.8888888888888888, \"#fdca26\"], [1.0, \"#f0f921\"]], \"type\": \"histogram2dcontour\"}], \"mesh3d\": [{\"colorbar\": {\"outlinewidth\": 0, \"ticks\": \"\"}, \"type\": \"mesh3d\"}], \"parcoords\": [{\"line\": {\"colorbar\": {\"outlinewidth\": 0, \"ticks\": \"\"}}, \"type\": \"parcoords\"}], \"pie\": [{\"automargin\": true, \"type\": \"pie\"}], \"scatter\": [{\"marker\": {\"colorbar\": {\"outlinewidth\": 0, \"ticks\": \"\"}}, \"type\": \"scatter\"}], \"scatter3d\": [{\"line\": {\"colorbar\": {\"outlinewidth\": 0, \"ticks\": \"\"}}, \"marker\": {\"colorbar\": {\"outlinewidth\": 0, \"ticks\": \"\"}}, \"type\": \"scatter3d\"}], \"scattercarpet\": [{\"marker\": {\"colorbar\": {\"outlinewidth\": 0, \"ticks\": \"\"}}, \"type\": \"scattercarpet\"}], \"scattergeo\": [{\"marker\": {\"colorbar\": {\"outlinewidth\": 0, \"ticks\": \"\"}}, \"type\": \"scattergeo\"}], \"scattergl\": [{\"marker\": {\"colorbar\": {\"outlinewidth\": 0, \"ticks\": \"\"}}, \"type\": \"scattergl\"}], \"scattermapbox\": [{\"marker\": {\"colorbar\": {\"outlinewidth\": 0, \"ticks\": \"\"}}, \"type\": \"scattermapbox\"}], \"scatterpolar\": [{\"marker\": {\"colorbar\": {\"outlinewidth\": 0, \"ticks\": \"\"}}, \"type\": \"scatterpolar\"}], \"scatterpolargl\": [{\"marker\": {\"colorbar\": {\"outlinewidth\": 0, \"ticks\": \"\"}}, \"type\": \"scatterpolargl\"}], \"scatterternary\": [{\"marker\": {\"colorbar\": {\"outlinewidth\": 0, \"ticks\": \"\"}}, \"type\": \"scatterternary\"}], \"surface\": [{\"colorbar\": {\"outlinewidth\": 0, \"ticks\": \"\"}, \"colorscale\": [[0.0, \"#0d0887\"], [0.1111111111111111, \"#46039f\"], [0.2222222222222222, \"#7201a8\"], [0.3333333333333333, \"#9c179e\"], [0.4444444444444444, \"#bd3786\"], [0.5555555555555556, \"#d8576b\"], [0.6666666666666666, \"#ed7953\"], [0.7777777777777778, \"#fb9f3a\"], [0.8888888888888888, \"#fdca26\"], [1.0, \"#f0f921\"]], \"type\": \"surface\"}], \"table\": [{\"cells\": {\"fill\": {\"color\": \"#EBF0F8\"}, \"line\": {\"color\": \"white\"}}, \"header\": {\"fill\": {\"color\": \"#C8D4E3\"}, \"line\": {\"color\": \"white\"}}, \"type\": \"table\"}]}, \"layout\": {\"annotationdefaults\": {\"arrowcolor\": \"#2a3f5f\", \"arrowhead\": 0, \"arrowwidth\": 1}, \"coloraxis\": {\"colorbar\": {\"outlinewidth\": 0, \"ticks\": \"\"}}, \"colorscale\": {\"diverging\": [[0, \"#8e0152\"], [0.1, \"#c51b7d\"], [0.2, \"#de77ae\"], [0.3, \"#f1b6da\"], [0.4, \"#fde0ef\"], [0.5, \"#f7f7f7\"], [0.6, \"#e6f5d0\"], [0.7, \"#b8e186\"], [0.8, \"#7fbc41\"], [0.9, \"#4d9221\"], [1, \"#276419\"]], \"sequential\": [[0.0, \"#0d0887\"], [0.1111111111111111, \"#46039f\"], [0.2222222222222222, \"#7201a8\"], [0.3333333333333333, \"#9c179e\"], [0.4444444444444444, \"#bd3786\"], [0.5555555555555556, \"#d8576b\"], [0.6666666666666666, \"#ed7953\"], [0.7777777777777778, \"#fb9f3a\"], [0.8888888888888888, \"#fdca26\"], [1.0, \"#f0f921\"]], \"sequentialminus\": [[0.0, \"#0d0887\"], [0.1111111111111111, \"#46039f\"], [0.2222222222222222, \"#7201a8\"], [0.3333333333333333, \"#9c179e\"], [0.4444444444444444, \"#bd3786\"], [0.5555555555555556, \"#d8576b\"], [0.6666666666666666, \"#ed7953\"], [0.7777777777777778, \"#fb9f3a\"], [0.8888888888888888, \"#fdca26\"], [1.0, \"#f0f921\"]]}, \"colorway\": [\"#636efa\", \"#EF553B\", \"#00cc96\", \"#ab63fa\", \"#FFA15A\", \"#19d3f3\", \"#FF6692\", \"#B6E880\", \"#FF97FF\", \"#FECB52\"], \"font\": {\"color\": \"#2a3f5f\"}, \"geo\": {\"bgcolor\": \"white\", \"lakecolor\": \"white\", \"landcolor\": \"#E5ECF6\", \"showlakes\": true, \"showland\": true, \"subunitcolor\": \"white\"}, \"hoverlabel\": {\"align\": \"left\"}, \"hovermode\": \"closest\", \"mapbox\": {\"style\": \"light\"}, \"paper_bgcolor\": \"white\", \"plot_bgcolor\": \"#E5ECF6\", \"polar\": {\"angularaxis\": {\"gridcolor\": \"white\", \"linecolor\": \"white\", \"ticks\": \"\"}, \"bgcolor\": \"#E5ECF6\", \"radialaxis\": {\"gridcolor\": \"white\", \"linecolor\": \"white\", \"ticks\": \"\"}}, \"scene\": {\"xaxis\": {\"backgroundcolor\": \"#E5ECF6\", \"gridcolor\": \"white\", \"gridwidth\": 2, \"linecolor\": \"white\", \"showbackground\": true, \"ticks\": \"\", \"zerolinecolor\": \"white\"}, \"yaxis\": {\"backgroundcolor\": \"#E5ECF6\", \"gridcolor\": \"white\", \"gridwidth\": 2, \"linecolor\": \"white\", \"showbackground\": true, \"ticks\": \"\", \"zerolinecolor\": \"white\"}, \"zaxis\": {\"backgroundcolor\": \"#E5ECF6\", \"gridcolor\": \"white\", \"gridwidth\": 2, \"linecolor\": \"white\", \"showbackground\": true, \"ticks\": \"\", \"zerolinecolor\": \"white\"}}, \"shapedefaults\": {\"line\": {\"color\": \"#2a3f5f\"}}, \"ternary\": {\"aaxis\": {\"gridcolor\": \"white\", \"linecolor\": \"white\", \"ticks\": \"\"}, \"baxis\": {\"gridcolor\": \"white\", \"linecolor\": \"white\", \"ticks\": \"\"}, \"bgcolor\": \"#E5ECF6\", \"caxis\": {\"gridcolor\": \"white\", \"linecolor\": \"white\", \"ticks\": \"\"}}, \"title\": {\"x\": 0.05}, \"xaxis\": {\"automargin\": true, \"gridcolor\": \"white\", \"linecolor\": \"white\", \"ticks\": \"\", \"title\": {\"standoff\": 15}, \"zerolinecolor\": \"white\", \"zerolinewidth\": 2}, \"yaxis\": {\"automargin\": true, \"gridcolor\": \"white\", \"linecolor\": \"white\", \"ticks\": \"\", \"title\": {\"standoff\": 15}, \"zerolinecolor\": \"white\", \"zerolinewidth\": 2}}}, \"title\": {\"text\": \"Subreddits with 'Regenerative Agriculture' activity over past year\"}, \"width\": 800, \"xaxis\": {\"anchor\": \"y\", \"domain\": [0.0, 1.0], \"title\": {\"text\": \"subreddit\"}}, \"yaxis\": {\"anchor\": \"x\", \"domain\": [0.0, 1.0], \"title\": {\"text\": \"count\"}}},\n",
       "                        {\"responsive\": true}\n",
       "                    ).then(function(){\n",
       "                            \n",
       "var gd = document.getElementById('9e9f77c4-d5e0-437c-837d-64d40b780079');\n",
       "var x = new MutationObserver(function (mutations, observer) {{\n",
       "        var display = window.getComputedStyle(gd).display;\n",
       "        if (!display || display === 'none') {{\n",
       "            console.log([gd, 'removed!']);\n",
       "            Plotly.purge(gd);\n",
       "            observer.disconnect();\n",
       "        }}\n",
       "}});\n",
       "\n",
       "// Listen for the removal of the full notebook cells\n",
       "var notebookContainer = gd.closest('#notebook-container');\n",
       "if (notebookContainer) {{\n",
       "    x.observe(notebookContainer, {childList: true});\n",
       "}}\n",
       "\n",
       "// Listen for the clearing of the current output cell\n",
       "var outputEl = gd.closest('.output');\n",
       "if (outputEl) {{\n",
       "    x.observe(outputEl, {childList: true});\n",
       "}}\n",
       "\n",
       "                        })\n",
       "                };\n",
       "                });\n",
       "            </script>\n",
       "        </div>"
      ]
     },
     "metadata": {},
     "output_type": "display_data"
    }
   ],
   "source": [
    "# make plot with plotly\n",
    "px.bar(grouped_df,              # df\n",
    "       x=\"subreddit\",           # x axis info from df\n",
    "       y=\"count\",               # y axis 'count' column from df\n",
    "       title=f\"Subreddits with 'Regenerative Agriculture' activity over past year\",\n",
    "       labels={\"doc_count\": \"# comments\",\"key\": \"Subreddits\"}, # axis names\n",
    "       color_discrete_sequence=[\"blueviolet\"], # colors used\n",
    "       height=500,\n",
    "       width=800)"
   ]
  },
  {
   "cell_type": "markdown",
   "metadata": {},
   "source": [
    "## Top Comments Over the past week"
   ]
  },
  {
   "cell_type": "code",
   "execution_count": 43,
   "metadata": {},
   "outputs": [
    {
     "data": {
      "text/html": [
       "<style  type=\"text/css\" >\n",
       "</style><table id=\"T_0790c778_507b_11eb_b25b_0c8bfde3828e\" ><thead>    <tr>        <th class=\"blank level0\" ></th>        <th class=\"col_heading level0 col0\" >author</th>        <th class=\"col_heading level0 col1\" >subreddit</th>        <th class=\"col_heading level0 col2\" >score</th>        <th class=\"col_heading level0 col3\" >body</th>        <th class=\"col_heading level0 col4\" >permalink</th>    </tr></thead><tbody>\n",
       "                <tr>\n",
       "                        <th id=\"T_0790c778_507b_11eb_b25b_0c8bfde3828elevel0_row0\" class=\"row_heading level0 row0\" >0</th>\n",
       "                        <td id=\"T_0790c778_507b_11eb_b25b_0c8bfde3828erow0_col0\" class=\"data row0 col0\" >valski1337</td>\n",
       "                        <td id=\"T_0790c778_507b_11eb_b25b_0c8bfde3828erow0_col1\" class=\"data row0 col1\" >LivestreamFail</td>\n",
       "                        <td id=\"T_0790c778_507b_11eb_b25b_0c8bfde3828erow0_col2\" class=\"data row0 col2\" >26</td>\n",
       "                        <td id=\"T_0790c778_507b_11eb_b25b_0c8bfde3828erow0_col3\" class=\"data row0 col3\" >Except [regenerative agriculture](https://en.wikipedia.org/wiki/Regenerative_agriculture) exists and is getting more popular....</td>\n",
       "                        <td id=\"T_0790c778_507b_11eb_b25b_0c8bfde3828erow0_col4\" class=\"data row0 col4\" ><a href=\"https://reddit.com/r/LivestreamFail/comments/kqzo2b/maya_meets_dafran/gi84b9p/\">Link</a></td>\n",
       "            </tr>\n",
       "            <tr>\n",
       "                        <th id=\"T_0790c778_507b_11eb_b25b_0c8bfde3828elevel0_row1\" class=\"row_heading level0 row1\" >1</th>\n",
       "                        <td id=\"T_0790c778_507b_11eb_b25b_0c8bfde3828erow1_col0\" class=\"data row1 col0\" >Deep-Duck</td>\n",
       "                        <td id=\"T_0790c778_507b_11eb_b25b_0c8bfde3828erow1_col1\" class=\"data row1 col1\" >worldnews</td>\n",
       "                        <td id=\"T_0790c778_507b_11eb_b25b_0c8bfde3828erow1_col2\" class=\"data row1 col2\" >12</td>\n",
       "                        <td id=\"T_0790c778_507b_11eb_b25b_0c8bfde3828erow1_col3\" class=\"data row1 col3\" >Community Supported Agriculture is great for this and I highly recommend people join a CSA if they have access to one near them. \n",
       "\n",
       "With a CSA you pay for your entire seasons worth of vegetables up front to a local farm. Then throughout the year you get a weekly share of the farms harvest. Most (all in my experience) CSA's put a focus on regenerative farming focusing on farming techniques that rene...</td>\n",
       "                        <td id=\"T_0790c778_507b_11eb_b25b_0c8bfde3828erow1_col4\" class=\"data row1 col4\" ><a href=\"https://reddit.com/r/worldnews/comments/krncqu/co2_already_emitted_will_warm_earth_beyond/gibid48/\">Link</a></td>\n",
       "            </tr>\n",
       "            <tr>\n",
       "                        <th id=\"T_0790c778_507b_11eb_b25b_0c8bfde3828elevel0_row2\" class=\"row_heading level0 row2\" >2</th>\n",
       "                        <td id=\"T_0790c778_507b_11eb_b25b_0c8bfde3828erow2_col0\" class=\"data row2 col0\" >vocalghost</td>\n",
       "                        <td id=\"T_0790c778_507b_11eb_b25b_0c8bfde3828erow2_col1\" class=\"data row2 col1\" >LivestreamFail</td>\n",
       "                        <td id=\"T_0790c778_507b_11eb_b25b_0c8bfde3828erow2_col2\" class=\"data row2 col2\" >11</td>\n",
       "                        <td id=\"T_0790c778_507b_11eb_b25b_0c8bfde3828erow2_col3\" class=\"data row2 col3\" >How in the world did you get \"stop farming altogether\" from my comment?  I'm not against regen ag at all, I think its amazing, but the fact of the matter is that farming requires land that they have to make fit to the crops that the market wants. \n",
       "\n",
       "They're referring to conservation as in the conserving the nutrients in the soil so you can get better yields.\n",
       "\n",
       "I'm pretty sure the comment above was t...</td>\n",
       "                        <td id=\"T_0790c778_507b_11eb_b25b_0c8bfde3828erow2_col4\" class=\"data row2 col4\" ><a href=\"https://reddit.com/r/LivestreamFail/comments/kqzo2b/maya_meets_dafran/gi8bs0u/\">Link</a></td>\n",
       "            </tr>\n",
       "            <tr>\n",
       "                        <th id=\"T_0790c778_507b_11eb_b25b_0c8bfde3828elevel0_row3\" class=\"row_heading level0 row3\" >3</th>\n",
       "                        <td id=\"T_0790c778_507b_11eb_b25b_0c8bfde3828erow3_col0\" class=\"data row3 col0\" >Skatchan</td>\n",
       "                        <td id=\"T_0790c778_507b_11eb_b25b_0c8bfde3828erow3_col1\" class=\"data row3 col1\" >worldnews</td>\n",
       "                        <td id=\"T_0790c778_507b_11eb_b25b_0c8bfde3828erow3_col2\" class=\"data row3 col2\" >9</td>\n",
       "                        <td id=\"T_0790c778_507b_11eb_b25b_0c8bfde3828erow3_col3\" class=\"data row3 col3\" >&gt; It is, of course, possible to rear a limited number of animals in ways that cause less damage. This report, which focuses on just one environmental concern – climate change – has found that well-managed grazing in some contexts can cause carbon to be sequestered in the soil – and at the very least can provide an economic rationale for keeping the carbon in the ground. It is important to ident...</td>\n",
       "                        <td id=\"T_0790c778_507b_11eb_b25b_0c8bfde3828erow3_col4\" class=\"data row3 col4\" ><a href=\"https://reddit.com/r/worldnews/comments/krncqu/co2_already_emitted_will_warm_earth_beyond/gibcktc/\">Link</a></td>\n",
       "            </tr>\n",
       "            <tr>\n",
       "                        <th id=\"T_0790c778_507b_11eb_b25b_0c8bfde3828elevel0_row4\" class=\"row_heading level0 row4\" >4</th>\n",
       "                        <td id=\"T_0790c778_507b_11eb_b25b_0c8bfde3828erow4_col0\" class=\"data row4 col0\" >ChampagneFloozy</td>\n",
       "                        <td id=\"T_0790c778_507b_11eb_b25b_0c8bfde3828erow4_col1\" class=\"data row4 col1\" >Enough_Sanders_Spam</td>\n",
       "                        <td id=\"T_0790c778_507b_11eb_b25b_0c8bfde3828erow4_col2\" class=\"data row4 col2\" >7</td>\n",
       "                        <td id=\"T_0790c778_507b_11eb_b25b_0c8bfde3828erow4_col3\" class=\"data row4 col3\" > regenerative agriculture that focuses on carbon capture.\n",
       "\n",
       "Check and see if Indigo Ag is public yet....</td>\n",
       "                        <td id=\"T_0790c778_507b_11eb_b25b_0c8bfde3828erow4_col4\" class=\"data row4 col4\" ><a href=\"https://reddit.com/r/Enough_Sanders_Spam/comments/kqtpch/daily_general_discussion_roundtable_01052021/gi72d1c/\">Link</a></td>\n",
       "            </tr>\n",
       "            <tr>\n",
       "                        <th id=\"T_0790c778_507b_11eb_b25b_0c8bfde3828elevel0_row5\" class=\"row_heading level0 row5\" >5</th>\n",
       "                        <td id=\"T_0790c778_507b_11eb_b25b_0c8bfde3828erow5_col0\" class=\"data row5 col0\" >GentleOmnicide</td>\n",
       "                        <td id=\"T_0790c778_507b_11eb_b25b_0c8bfde3828erow5_col1\" class=\"data row5 col1\" >PublicFreakout</td>\n",
       "                        <td id=\"T_0790c778_507b_11eb_b25b_0c8bfde3828erow5_col2\" class=\"data row5 col2\" >5</td>\n",
       "                        <td id=\"T_0790c778_507b_11eb_b25b_0c8bfde3828erow5_col3\" class=\"data row5 col3\" >Concrete jungle vegans are the worst offenders of that “in your face guilt” while they support mass agriculture monocultures. Mono cultures do so much harm to the environment and kill a ton of animals so that people can buy their veggies and feel safe in their own reality. I have nothing against people being vegan on their own, and applaud anyone that can grow their own food minimizing risks towar...</td>\n",
       "                        <td id=\"T_0790c778_507b_11eb_b25b_0c8bfde3828erow5_col4\" class=\"data row5 col4\" ><a href=\"https://reddit.com/r/PublicFreakout/comments/krte33/another_reason_to_hate_these_people/gibus9s/\">Link</a></td>\n",
       "            </tr>\n",
       "            <tr>\n",
       "                        <th id=\"T_0790c778_507b_11eb_b25b_0c8bfde3828elevel0_row6\" class=\"row_heading level0 row6\" >6</th>\n",
       "                        <td id=\"T_0790c778_507b_11eb_b25b_0c8bfde3828erow6_col0\" class=\"data row6 col0\" >valski1337</td>\n",
       "                        <td id=\"T_0790c778_507b_11eb_b25b_0c8bfde3828erow6_col1\" class=\"data row6 col1\" >LivestreamFail</td>\n",
       "                        <td id=\"T_0790c778_507b_11eb_b25b_0c8bfde3828erow6_col2\" class=\"data row6 col2\" >4</td>\n",
       "                        <td id=\"T_0790c778_507b_11eb_b25b_0c8bfde3828erow6_col3\" class=\"data row6 col3\" >I don't get your point. Stop farming altogether? \"*Regenerative agriculture is a conservation and rehabilitation approach to food and farming systems.*\" Conservation is literally in the definition of regenerative agriculture....</td>\n",
       "                        <td id=\"T_0790c778_507b_11eb_b25b_0c8bfde3828erow6_col4\" class=\"data row6 col4\" ><a href=\"https://reddit.com/r/LivestreamFail/comments/kqzo2b/maya_meets_dafran/gi88lg5/\">Link</a></td>\n",
       "            </tr>\n",
       "            <tr>\n",
       "                        <th id=\"T_0790c778_507b_11eb_b25b_0c8bfde3828elevel0_row7\" class=\"row_heading level0 row7\" >7</th>\n",
       "                        <td id=\"T_0790c778_507b_11eb_b25b_0c8bfde3828erow7_col0\" class=\"data row7 col0\" >AnonyJustAName</td>\n",
       "                        <td id=\"T_0790c778_507b_11eb_b25b_0c8bfde3828erow7_col1\" class=\"data row7 col1\" >exvegans</td>\n",
       "                        <td id=\"T_0790c778_507b_11eb_b25b_0c8bfde3828erow7_col2\" class=\"data row7 col2\" >3</td>\n",
       "                        <td id=\"T_0790c778_507b_11eb_b25b_0c8bfde3828erow7_col3\" class=\"data row7 col3\" >It struck me how high pressure and performance oriented his life was. He couldn't just enjoy music he had to play like a jazz great. Had to be an exhausting way to live and the black and white thinking and focus on things none of us have control over can so easily lead to dispare. Had he been involved in something like 4-H or regenerative agriculture might have given a sense of being needed by tan...</td>\n",
       "                        <td id=\"T_0790c778_507b_11eb_b25b_0c8bfde3828erow7_col4\" class=\"data row7 col4\" ><a href=\"https://reddit.com/r/exvegans/comments/kqzuse/vegan_activist_tommy_raskin_son_of_politician/gi831hi/\">Link</a></td>\n",
       "            </tr>\n",
       "            <tr>\n",
       "                        <th id=\"T_0790c778_507b_11eb_b25b_0c8bfde3828elevel0_row8\" class=\"row_heading level0 row8\" >8</th>\n",
       "                        <td id=\"T_0790c778_507b_11eb_b25b_0c8bfde3828erow8_col0\" class=\"data row8 col0\" >riselikethemoon</td>\n",
       "                        <td id=\"T_0790c778_507b_11eb_b25b_0c8bfde3828erow8_col1\" class=\"data row8 col1\" >Permaculture</td>\n",
       "                        <td id=\"T_0790c778_507b_11eb_b25b_0c8bfde3828erow8_col2\" class=\"data row8 col2\" >3</td>\n",
       "                        <td id=\"T_0790c778_507b_11eb_b25b_0c8bfde3828erow8_col3\" class=\"data row8 col3\" >Define some goals first. Are you restoring it to productive farm land? Check out regenerative agriculture. Restoring it to whatever the native ecosystem was? Check out restoration projects in your area. This depends a lot on location, but local universities and conservation organizations are a good place to start looking for resources....</td>\n",
       "                        <td id=\"T_0790c778_507b_11eb_b25b_0c8bfde3828erow8_col4\" class=\"data row8 col4\" ><a href=\"https://reddit.com/r/Permaculture/comments/krkkn6/using_permaculture_to_restore_a_depleted_land/gibij16/\">Link</a></td>\n",
       "            </tr>\n",
       "            <tr>\n",
       "                        <th id=\"T_0790c778_507b_11eb_b25b_0c8bfde3828elevel0_row9\" class=\"row_heading level0 row9\" >9</th>\n",
       "                        <td id=\"T_0790c778_507b_11eb_b25b_0c8bfde3828erow9_col0\" class=\"data row9 col0\" >64557175</td>\n",
       "                        <td id=\"T_0790c778_507b_11eb_b25b_0c8bfde3828erow9_col1\" class=\"data row9 col1\" >nextfuckinglevel</td>\n",
       "                        <td id=\"T_0790c778_507b_11eb_b25b_0c8bfde3828erow9_col2\" class=\"data row9 col2\" >2</td>\n",
       "                        <td id=\"T_0790c778_507b_11eb_b25b_0c8bfde3828erow9_col3\" class=\"data row9 col3\" >Dope! This year was my first year making OHN and FAA along with the usuals. \n",
       "\n",
       "Hot tip - check out this LAB recipe. You'll never go back to milk!\n",
       "https://youtu.be/XYyOBSMDA6o\n",
       "\n",
       "Good stuff, my guy, regenerative agriculture is going to save the world. It's our only hope! Thanks for your posts, it's refreshing and inspiring....</td>\n",
       "                        <td id=\"T_0790c778_507b_11eb_b25b_0c8bfde3828erow9_col4\" class=\"data row9 col4\" ><a href=\"https://reddit.com/r/nextfuckinglevel/comments/koi87x/happy_new_year_in_2020_ive_been_working_on_2_jobs/ghrpmze/\">Link</a></td>\n",
       "            </tr>\n",
       "    </tbody></table>"
      ],
      "text/plain": [
       "<pandas.io.formats.style.Styler at 0x23fdfd8d88>"
      ]
     },
     "execution_count": 43,
     "metadata": {},
     "output_type": "execute_result"
    }
   ],
   "source": [
    "# get top comment data with function\n",
    "data = get_pushshift_data(data_type=\"comment\", \n",
    "                          q=\"regenerative agriculture\", \n",
    "                          after=\"7d\", \n",
    "                          size=10, \n",
    "                          sort_type=\"score\", \n",
    "                          sort=\"desc\").get(\"data\")\n",
    "\n",
    "# put columns of interest in df\n",
    "df = pd.DataFrame.from_records(data)[[\"author\", \"subreddit\", \"score\", \"body\", \"permalink\"]]\n",
    "\n",
    "# limit body of the comment\n",
    "df['body'] = df['body'].str[0:400] + \"...\"\n",
    "\n",
    "# append the string to all the permalink entries so that there's a link to the comment\n",
    "df['permalink'] = \"https://reddit.com\" + df['permalink'].astype(str)\n",
    "\n",
    "# function for making clickable links in df table\n",
    "def make_clickable(val):\n",
    "    return '<a href=\"{}\">Link</a>'.format(val,val)\n",
    "\n",
    "# style the last column to be clickable and print\n",
    "df.style.format({'permalink': make_clickable})"
   ]
  },
  {
   "cell_type": "markdown",
   "metadata": {},
   "source": [
    "## Sentiment over time"
   ]
  },
  {
   "cell_type": "code",
   "execution_count": 44,
   "metadata": {},
   "outputs": [],
   "source": [
    "# load packages \n",
    "import textblob"
   ]
  },
  {
   "cell_type": "code",
   "execution_count": 45,
   "metadata": {},
   "outputs": [],
   "source": [
    "# get the data of interest with function\n",
    "data = get_pushshift_data(data_type=\"comment\",\n",
    "                          after=\"2d\",\n",
    "                          size=1000,\n",
    "                          sort_type=\"score\",\n",
    "                          sort=\"desc\",\n",
    "                          subreddit=\"worldnews\").get(\"data\")\n",
    "\n",
    "# define columns of interest\n",
    "columns_of_interest = [\"author\", \"body\", \"created_utc\", \"score\", \"permalink\"]\n",
    "\n",
    "# transform the response into a dataframe with relevant columns\n",
    "df = pd.DataFrame.from_records(data)[columns_of_interest]"
   ]
  },
  {
   "cell_type": "code",
   "execution_count": 46,
   "metadata": {},
   "outputs": [],
   "source": [
    "# create a column with sentiment polarity\n",
    "df[\"sentiment_polarity\"] = df.apply(lambda row: textblob.TextBlob(row[\"body\"]).sentiment.polarity, axis=1)\n",
    "\n",
    "# create a column with sentiment subjectivity\n",
    "df[\"sentiment_subjectivity\"] = df.apply(lambda row: textblob.TextBlob(row[\"body\"]).sentiment.subjectivity, axis=1)\n",
    "\n",
    "# create a column with 'positive' or 'negative' depending on sentiment_polarity\n",
    "df[\"sentiment\"] = df.apply(lambda row: \"positive\" if row[\"sentiment_polarity\"] >= 0 else \"negative\", axis=1)\n",
    "\n",
    "# create a column with a text preview that shows the first 50 characters\n",
    "df[\"preview\"] = df[\"body\"].str[0:50]\n",
    "\n",
    "# take the created_utc parameter and tranform it into a datetime column\n",
    "df[\"date\"] = pd.to_datetime(df['created_utc'],unit='s')"
   ]
  },
  {
   "cell_type": "code",
   "execution_count": 48,
   "metadata": {},
   "outputs": [
    {
     "data": {
      "application/vnd.plotly.v1+json": {
       "config": {
        "plotlyServerURL": "https://plot.ly"
       },
       "data": [
        {
         "customdata": [
          [
           "RzK",
           "/r/worldnews/comments/kr563k/no_τrump_wont_be_golfing_in_scotland_on/gi7xd9t/",
           "Putin already got his use out of him. That'd be li"
          ],
          [
           "Dread168",
           "/r/worldnews/comments/kr563k/no_τrump_wont_be_golfing_in_scotland_on/gi7uyhn/",
           "Putin should invite him to play golf in Moscow in "
          ],
          [
           "ErikTheAngry",
           "/r/worldnews/comments/kr563k/no_τrump_wont_be_golfing_in_scotland_on/gi7zhe4/",
           "Somewhat ironically, I hear that a great many esco"
          ],
          [
           "Politicshatesme",
           "/r/worldnews/comments/kr563k/no_τrump_wont_be_golfing_in_scotland_on/gi83zn8/",
           "Imagine if countries treated mental health as impo"
          ],
          [
           "Vik1ng",
           "/r/worldnews/comments/krcjyc/germany_catholic_officials_ask_reporters_for/gi9ykxq/",
           "Just take a confession afterwards. Easy."
          ],
          [
           "CillyBonnolly",
           "/r/worldnews/comments/kr563k/no_τrump_wont_be_golfing_in_scotland_on/gi8e27l/",
           "As a fellow Scot, I’d just like to add Donald Trum"
          ],
          [
           "kuhnty",
           "/r/worldnews/comments/kr563k/no_τrump_wont_be_golfing_in_scotland_on/gi8k2z7/",
           "Another Scot, I’d happily take a shit on his golf "
          ],
          [
           "swizzcheez",
           "/r/worldnews/comments/krcjyc/germany_catholic_officials_ask_reporters_for/gi9bkc4/",
           "Pretty much an oppressed conference."
          ],
          [
           "tofuroll",
           "/r/worldnews/comments/kr563k/no_τrump_wont_be_golfing_in_scotland_on/gi84jwp/",
           "That's just the market filling a need. /s"
          ],
          [
           "The-True-Kehlder",
           "/r/worldnews/comments/krcjyc/germany_catholic_officials_ask_reporters_for/gi9w0g7/",
           "Seems to me like someone should have taken one for"
          ],
          [
           "Fidel_Chadstro",
           "/r/worldnews/comments/kr563k/no_τrump_wont_be_golfing_in_scotland_on/gi853cb/",
           "Oh magic hand of the free market, what should we d"
          ],
          [
           "jimmymaccricket",
           "/r/worldnews/comments/kr563k/no_τrump_wont_be_golfing_in_scotland_on/gi7y24d/",
           "Rich people get visas by having money, basically. "
          ],
          [
           "Terminal_To_Myself",
           "/r/worldnews/comments/kr563k/no_τrump_wont_be_golfing_in_scotland_on/gi863bx/",
           "If he does Prestwick Airport is only 40 mins from "
          ],
          [
           "Caraes_Naur",
           "/r/worldnews/comments/krcjyc/germany_catholic_officials_ask_reporters_for/gi96401/",
           "So, the exact opposite of a press conference."
          ],
          [
           "sqgl",
           "/r/worldnews/comments/krjuuq/new_zealands_covid_response_was_so_good_mortality/giaudp8/",
           "Australia too. Almost no flu deaths (think it was "
          ],
          [
           "TootsNYC",
           "/r/worldnews/comments/kqedv7/scottish_national_party_mp_margaret_ferrier_has/gi4qvjy/",
           "“This is not who I am”\n&gt; Ms Ferrier publicly ap"
          ],
          [
           "Topcity36",
           "/r/worldnews/comments/krcjyc/germany_catholic_officials_ask_reporters_for/gi9ypfy/",
           "This guy Catholics!"
          ],
          [
           "egorey23",
           "/r/worldnews/comments/kqedv7/scottish_national_party_mp_margaret_ferrier_has/gi4s0f6/",
           "This made me laugh out loud. I had COVID in June a"
          ],
          [
           "ActualSpiders",
           "/r/worldnews/comments/kqedv7/scottish_national_party_mp_margaret_ferrier_has/gi4utyi/",
           "As an American, I have daydreams about things like"
          ],
          [
           "Solo_is_my_copliot",
           "/r/worldnews/comments/kr563k/no_τrump_wont_be_golfing_in_scotland_on/gi8p5cm/",
           "As a favor to an American, before you do, can you "
          ],
          [
           "CanuckSalaryman",
           "/r/worldnews/comments/kr563k/no_τrump_wont_be_golfing_in_scotland_on/gi858y8/",
           "But if he has to prove how much money he has, he w"
          ],
          [
           "AllPurposeNerd",
           "/r/worldnews/comments/krcjyc/germany_catholic_officials_ask_reporters_for/gia1ihj/",
           "Our chief weapon is injunctions. Injunctions and s"
          ],
          [
           "dancingking84",
           "/r/worldnews/comments/krjuuq/new_zealands_covid_response_was_so_good_mortality/gib3i2x/",
           "The US actually has had more deaths from covid tha"
          ],
          [
           "Bipedal_Warlock",
           "/r/worldnews/comments/krjuuq/new_zealands_covid_response_was_so_good_mortality/giayc13/",
           "US flu has gone down dramatically, but we more tha"
          ],
          [
           "HiThisisCarson",
           "/r/worldnews/comments/krfltw/who_team_blocked_from_entering_china_to_study/gia2pne/",
           "One reason could be to avoid helping China with th"
          ],
          [
           "arvigeus",
           "/r/worldnews/comments/krfltw/who_team_blocked_from_entering_china_to_study/gia5drq/",
           "WHO: Praises China for its openness and transparen"
          ],
          [
           "stressHCLB",
           "/r/worldnews/comments/krcjyc/germany_catholic_officials_ask_reporters_for/gi9cp3k/",
           "No one expects the Italian Deposition!"
          ],
          [
           "stressHCLB",
           "/r/worldnews/comments/krcjyc/germany_catholic_officials_ask_reporters_for/gi9ctex/",
           "So the Church can say they are being open and tran"
          ],
          [
           "Fishyswaze",
           "/r/worldnews/comments/kr563k/no_τrump_wont_be_golfing_in_scotland_on/gi8bnp1/",
           "Maybe the answer is more prostitutes and we just h"
          ],
          [
           "SnooDoubts826",
           "/r/worldnews/comments/krcost/a_leaked_audio_tape_of_the_thenhead_of_the/gi9xz4l/",
           " \n\nA leaked audio tape of the then-head of the Bel"
          ],
          [
           "Bioschnaps",
           "/r/worldnews/comments/krfltw/who_team_blocked_from_entering_china_to_study/gianztg/",
           "To add to that: only Sachsenhausen was used in thi"
          ],
          [
           "gebregl",
           "/r/worldnews/comments/kqmxfx/jack_ma_is_missing/gi4wmsf/",
           "This happens in China when people are arrested. Tw"
          ],
          [
           "Eternal_Endeavour_",
           "/r/worldnews/comments/krcjyc/germany_catholic_officials_ask_reporters_for/gi9e2gx/",
           "Make them pay taxes while we're at it!"
          ],
          [
           "urjstgonnabremoved",
           "/r/worldnews/comments/krswg2/whatsapps_new_terms_wont_let_you_opt_out_of/gibpe9z/",
           "and since you are sharing data with Facebook, you "
          ],
          [
           "hitemlow",
           "/r/worldnews/comments/krdpbr/911style_threat_to_attack_dc_was_broadcasted_over/gi9clo2/",
           "&gt;It is assessed that the technician responsible"
          ],
          [
           "Material-Actuator-24",
           "/r/worldnews/comments/krfltw/who_team_blocked_from_entering_china_to_study/gia0u4o/",
           "WHO has never had a real reason to \"investigate an"
          ],
          [
           "edstatue",
           "/r/worldnews/comments/kr563k/no_τrump_wont_be_golfing_in_scotland_on/gi8dupy/",
           "Trump famously does not pay debts. He's the opposi"
          ],
          [
           "Mellz1980",
           "/r/worldnews/comments/kr563k/no_τrump_wont_be_golfing_in_scotland_on/gi91fey/",
           "Gotta love the Scots. They keep it really real."
          ],
          [
           "Progressiveandfiscal",
           "/r/worldnews/comments/kru9wy/at_presidents_urging_some_supporters_storm/gibybk3/",
           "Interesting to see the police not open fire on a n"
          ],
          [
           "casanovafrankly",
           "/r/worldnews/comments/krb4ok/the_mother_of_a_nineyearold_boy_with_a_rare_and/gi9ivy1/",
           "Yea, and honestly if I was this parent I’d just gr"
          ],
          [
           "typed_this_now",
           "/r/worldnews/comments/kr563k/no_τrump_wont_be_golfing_in_scotland_on/gi88lqt/",
           "No idea mate. I live Denmark, another socialist he"
          ],
          [
           "ElysianDreams",
           "/r/worldnews/comments/kqqhi9/chinese_cities_reportedly_go_dark_as_country/gi5jqu9/",
           "&gt;It was not immediately clear whether any of th"
          ],
          [
           "JarasM",
           "/r/worldnews/comments/krcjyc/germany_catholic_officials_ask_reporters_for/gia23kp/",
           "There's no point. The redacted version would anywa"
          ],
          [
           "k4pain",
           "/r/worldnews/comments/kr563k/no_τrump_wont_be_golfing_in_scotland_on/gi865mg/",
           "He's not the problem.  The dumbass 70 million peop"
          ],
          [
           "SeanHIRL",
           "/r/worldnews/comments/krfltw/who_team_blocked_from_entering_china_to_study/gialc43/",
           "Meanwhile, Chinese reporter is sentenced to 4 year"
          ],
          [
           "crunchierock",
           "/r/worldnews/comments/krjuuq/new_zealands_covid_response_was_so_good_mortality/giahino/",
           "Kiwi here, that's cool we still have a lot of disf"
          ],
          [
           "RoundLakeBoy",
           "/r/worldnews/comments/kr563k/no_τrump_wont_be_golfing_in_scotland_on/gi7qzoo/",
           "Nope.  The his administration is saying he didn't "
          ],
          [
           "ugettingremovedtoo",
           "/r/worldnews/comments/kr6rd7/newark_police_no_officer_fired_a_single_shot_in/gi7yvw6/",
           "\n&gt;\"I'm proud of the men and women of Newark pol"
          ],
          [
           "JonnyArena",
           "/r/worldnews/comments/krfltw/who_team_blocked_from_entering_china_to_study/gi9lnsp/",
           "They don’t want anyone to come in and see how they"
          ],
          [
           "Rockzilla78",
           "/r/worldnews/comments/kqedv7/scottish_national_party_mp_margaret_ferrier_has/gi4vurf/",
           "This must be a side effect of one of those new mut"
          ],
          [
           "praftman",
           "/r/worldnews/comments/krb4ok/the_mother_of_a_nineyearold_boy_with_a_rare_and/gi9jgbz/",
           "Brexit isn't simply \"trade policy\". The blame here"
          ],
          [
           "typed_this_now",
           "/r/worldnews/comments/kr563k/no_τrump_wont_be_golfing_in_scotland_on/gi874h1/",
           "I’m almost certain disabled people in the Netherla"
          ],
          [
           "Kony_Stark",
           "/r/worldnews/comments/kr563k/no_τrump_wont_be_golfing_in_scotland_on/gi8feph/",
           "Can you take your emotional support prostitute on "
          ],
          [
           "WatchingUShlick",
           "/r/worldnews/comments/krjuuq/new_zealands_covid_response_was_so_good_mortality/gib0hpq/",
           "To be fair, I wanted to move to NZ long before cov"
          ],
          [
           "slackmaster2k",
           "/r/worldnews/comments/krfltw/who_team_blocked_from_entering_china_to_study/gia7vzz/",
           "Me: praises child for cleaning room.\n\nAlso me: lon"
          ],
          [
           "This_Charmless_Man",
           "/r/worldnews/comments/kr563k/no_τrump_wont_be_golfing_in_scotland_on/gi8687l/",
           "He was a prick to the locals so the last one refus"
          ],
          [
           "blargfargr",
           "/r/worldnews/comments/kr00z7/humanitarian_aid_workers_who_fathered_children/gi8yl4r/",
           "&gt;Test cases in the Philippines found men from A"
          ],
          [
           "SigmundSalonen",
           "/r/worldnews/comments/krjuuq/new_zealands_covid_response_was_so_good_mortality/giacnv5/",
           "Maybe, just maybe it's a good fucking idea to put "
          ],
          [
           "maqcky",
           "/r/worldnews/comments/krfltw/who_team_blocked_from_entering_china_to_study/giak6rm/",
           "I was told the story while visiting the Sachsenhau"
          ],
          [
           "EmotionalProgress723",
           "/r/worldnews/comments/kqwn6c/egypt_entire_icu_ward_dies_after_oxygen_supply/gi88cm1/",
           "I know another guy that uses that same tactic."
          ],
          [
           "sweetno",
           "/r/worldnews/comments/krcost/a_leaked_audio_tape_of_the_thenhead_of_the/gi9nrrg/",
           "Didn't they say everyone concerned already knew ab"
          ],
          [
           "Snoo_94687",
           "/r/worldnews/comments/krfltw/who_team_blocked_from_entering_china_to_study/giaon35/",
           "What gives is that this website has multiple peopl"
          ],
          [
           "Gulag-The-Kulaks",
           "/r/worldnews/comments/kr563k/no_τrump_wont_be_golfing_in_scotland_on/gi917bp/",
           "If he's from Glasgow, his arse hole experiences th"
          ],
          [
           "wrat11",
           "/r/worldnews/comments/krcjyc/germany_catholic_officials_ask_reporters_for/gi9gtl8/",
           "Yes. Any other organization that had as much child"
          ],
          [
           "Ok_Dokie_Doke",
           "/r/worldnews/comments/krppkl/in_rare_display_of_contrition_north_korean_leader/gibvjoc/",
           "And there's a million of us just like me\n\nWho cuss"
          ],
          [
           "NaranjaGrande",
           "/r/worldnews/comments/krqp6g/eu_calls_for_immediate_release_of_53_hong_kong/giblkly/",
           "And if you don't, we may write you a very strongly"
          ],
          [
           "Xetiw",
           "/r/worldnews/comments/kqmxfx/jack_ma_is_missing/gi4y83y/",
           "Jack is a good example for people who doesnt belie"
          ],
          [
           "DarthMagnus88",
           "/r/worldnews/comments/krb4ok/the_mother_of_a_nineyearold_boy_with_a_rare_and/gi9qz5f/",
           "such a master lie too, \"vote for this and your lif"
          ],
          [
           "banacct54",
           "/r/worldnews/comments/krqp6g/eu_calls_for_immediate_release_of_53_hong_kong/gibs3c9/",
           "And sign another trade deal right after!"
          ]
         ],
         "hovertemplate": "sentiment=positive<br>Date comment was posted=%{x}<br>Comment positivity=%{y}<br>score=%{marker.size}<br>author=%{customdata[0]}<br>permalink=%{customdata[1]}<br>preview=%{customdata[2]}<extra></extra>",
         "legendgroup": "positive",
         "marker": {
          "color": "lightseagreen",
          "size": [
           2416,
           2106,
           1339,
           1156,
           844,
           841,
           692,
           582,
           576,
           513,
           456,
           451,
           378,
           370,
           356,
           342,
           333,
           331,
           311,
           293,
           290,
           289,
           257,
           256,
           242,
           223,
           218,
           218,
           201,
           199,
           197,
           190,
           183,
           181,
           179,
           175,
           174,
           168,
           165,
           165,
           163,
           160,
           156,
           154,
           151,
           150,
           148,
           145,
           140,
           139,
           139,
           135,
           135,
           135,
           135,
           133,
           131,
           130,
           130,
           128,
           128,
           128,
           126,
           126,
           118,
           118,
           117,
           115,
           115
          ],
          "sizemode": "area",
          "sizeref": 24.16,
          "symbol": "circle"
         },
         "mode": "markers",
         "name": "positive",
         "orientation": "v",
         "showlegend": true,
         "type": "scatter",
         "x": [
          "2021-01-05T20:33:16",
          "2021-01-05T20:17:59",
          "2021-01-05T20:46:47",
          "2021-01-05T21:15:48",
          "2021-01-06T05:55:47",
          "2021-01-05T22:21:07",
          "2021-01-05T23:00:58",
          "2021-01-06T02:32:12",
          "2021-01-05T21:19:28",
          "2021-01-06T05:28:51",
          "2021-01-05T21:22:54",
          "2021-01-05T20:37:35",
          "2021-01-05T21:29:24",
          "2021-01-06T01:47:27",
          "2021-01-06T13:30:04",
          "2021-01-05T01:21:48",
          "2021-01-06T05:57:09",
          "2021-01-05T01:31:24",
          "2021-01-05T01:55:21",
          "2021-01-05T23:35:13",
          "2021-01-05T21:23:56",
          "2021-01-06T06:29:43",
          "2021-01-06T14:56:33",
          "2021-01-06T14:09:48",
          "2021-01-06T06:44:51",
          "2021-01-06T07:20:06",
          "2021-01-06T02:41:18",
          "2021-01-06T02:42:17",
          "2021-01-05T22:05:28",
          "2021-01-06T05:49:14",
          "2021-01-06T12:11:11",
          "2021-01-05T02:10:32",
          "2021-01-06T02:52:26",
          "2021-01-06T17:46:03",
          "2021-01-06T02:40:33",
          "2021-01-06T06:21:28",
          "2021-01-05T22:19:47",
          "2021-01-06T01:08:08",
          "2021-01-06T18:51:33",
          "2021-01-06T03:32:12",
          "2021-01-05T21:45:47",
          "2021-01-05T05:51:05",
          "2021-01-06T06:37:03",
          "2021-01-05T21:29:47",
          "2021-01-06T11:31:59",
          "2021-01-06T10:30:52",
          "2021-01-05T19:54:27",
          "2021-01-05T20:42:56",
          "2021-01-06T03:55:31",
          "2021-01-05T02:03:56",
          "2021-01-06T03:36:52",
          "2021-01-05T21:36:06",
          "2021-01-05T22:29:55",
          "2021-01-06T14:29:46",
          "2021-01-06T07:55:53",
          "2021-01-05T21:30:16",
          "2021-01-06T00:44:31",
          "2021-01-06T09:10:03",
          "2021-01-06T11:14:04",
          "2021-01-05T21:44:06",
          "2021-01-06T04:13:31",
          "2021-01-06T12:20:15",
          "2021-01-06T01:06:15",
          "2021-01-06T03:15:15",
          "2021-01-06T18:31:15",
          "2021-01-06T17:18:08",
          "2021-01-05T02:23:55",
          "2021-01-06T04:41:52",
          "2021-01-06T18:05:50"
         ],
         "xaxis": "x",
         "y": [
          0,
          0,
          0.10000000000000002,
          0.0375,
          0.43333333333333335,
          0.10000000000000003,
          3.700743415417188e-17,
          0.225,
          0,
          0,
          0.26666666666666666,
          0.3578571428571428,
          0.3,
          0.125,
          0.06166666666666667,
          0,
          0,
          0.13333333333333333,
          0,
          0.20714285714285713,
          0.35833333333333334,
          0,
          0.16666666666666666,
          0.17222222222222222,
          0.4,
          0.0125,
          0,
          0,
          0.5,
          0.05399801587301589,
          0.1484126984126984,
          0,
          0,
          0.125,
          0.044974358974358974,
          0.2,
          0.25,
          0.35,
          0.32,
          0.55,
          0.13636363636363635,
          0.08750000000000001,
          0.3,
          0,
          0,
          0.575,
          0,
          0.3482954545454545,
          0,
          0.13636363636363635,
          0,
          0.1714285714285714,
          0.2,
          0.32499999999999996,
          0.15833333333333335,
          0.26666666666666666,
          0.4375,
          0.033333333333333326,
          0.020670995670995673,
          0,
          0,
          0,
          0,
          0.018499999999999982,
          0.5,
          0.5633333333333334,
          0.1857142857142857,
          0.3,
          0.3571428571428571
         ],
         "yaxis": "y"
        },
        {
         "customdata": [
          [
           "SpankThuMonkey",
           "/r/worldnews/comments/kr563k/no_τrump_wont_be_golfing_in_scotland_on/gi7wgck/",
           "I’ve known fellow Scots on all sides of the politi"
          ],
          [
           "Whiskey-Weather",
           "/r/worldnews/comments/kr563k/no_τrump_wont_be_golfing_in_scotland_on/gi8xkwe/",
           "American here, seeing how the Scots feel about Tru"
          ],
          [
           "SexLiesAndExercise",
           "/r/worldnews/comments/kqedv7/scottish_national_party_mp_margaret_ferrier_has/gi4sq2t/",
           "Likewise.\n\nAlso worth pointing out that the SNP ha"
          ],
          [
           "Enkundae",
           "/r/worldnews/comments/kqedv7/scottish_national_party_mp_margaret_ferrier_has/gi4tvtt/",
           "“She fucked up and she was correctly held accounta"
          ],
          [
           "maqcky",
           "/r/worldnews/comments/krfltw/who_team_blocked_from_entering_china_to_study/giah385/",
           "That's exactly what Germany did with their camps b"
          ],
          [
           "shillyshally",
           "/r/worldnews/comments/kr563k/no_τrump_wont_be_golfing_in_scotland_on/gi7vb4j/",
           "Can he just 'stay there'? Wouldn't he need a visa "
          ],
          [
           "domine18",
           "/r/worldnews/comments/kr563k/no_τrump_wont_be_golfing_in_scotland_on/gi881jm/",
           "He just got over half a billion from his minions t"
          ],
          [
           "arcalumis",
           "/r/worldnews/comments/krsu0v/brazilian_beef_farms_used_workers_kept_in/gibwybr/",
           "Brazilian beef farmers also tear down rainforest l"
          ],
          [
           "i_broke_wahoos_leg",
           "/r/worldnews/comments/krfltw/who_team_blocked_from_entering_china_to_study/gi9r1dd/",
           "Shame. Serious question, what is China's history o"
          ],
          [
           "go_birds_72",
           "/r/worldnews/comments/krge72/xi_jinping_orders_chinas_military_to_be_ready_for/gi9qwii/",
           "I mean.. that’s what militaries are for, right?"
          ],
          [
           "irish91",
           "/r/worldnews/comments/krcjyc/germany_catholic_officials_ask_reporters_for/giaaxsi/",
           "I'm sorry to hear this. My grandmother was the sam"
          ],
          [
           "Xenomemphate",
           "/r/worldnews/comments/kr563k/no_τrump_wont_be_golfing_in_scotland_on/gi85oy8/",
           "The usual Trump - Promising jobs and income, faili"
          ],
          [
           "Lev1a",
           "/r/worldnews/comments/kr563k/no_τrump_wont_be_golfing_in_scotland_on/gi8m56x/",
           "Why don't you guys both \"meet in the middle\" and j"
          ],
          [
           "Vik1ng",
           "/r/worldnews/comments/krcjyc/germany_catholic_officials_ask_reporters_for/gi9y4k0/",
           "The church commissioned a report. Then didn't publ"
          ],
          [
           "ratataisbest",
           "/r/worldnews/comments/krjuuq/new_zealands_covid_response_was_so_good_mortality/gialf7s/",
           "That's what happens when you shut down everything."
          ],
          [
           "tammage",
           "/r/worldnews/comments/krcjyc/germany_catholic_officials_ask_reporters_for/gi9jiql/",
           "My dad spent years in a home run by the Catholic C"
          ],
          [
           "BrownSugarBare",
           "/r/worldnews/comments/kr563k/no_τrump_wont_be_golfing_in_scotland_on/gi8bucz/",
           "Not surprised at all he'll attempt to flee. Howeve"
          ],
          [
           "urjstgonnabremoved",
           "/r/worldnews/comments/krcjyc/germany_catholic_officials_ask_reporters_for/gi95jsq/",
           "&gt;Church representatives said they would show jo"
          ],
          [
           "White_Freckles",
           "/r/worldnews/comments/kr563k/no_τrump_wont_be_golfing_in_scotland_on/gi7p3jb/",
           "He's going to deny it was his plan, \"fake news tot"
          ],
          [
           "JohnnyZepp",
           "/r/worldnews/comments/krcjyc/germany_catholic_officials_ask_reporters_for/gi9skxe/",
           "I just don’t get it. How hard is it NOT to fuck ch"
          ],
          [
           "SteveBored",
           "/r/worldnews/comments/krjuuq/new_zealands_covid_response_was_so_good_mortality/giaodci/",
           "I left NZ for Texas. Now my wife had to have an em"
          ],
          [
           "bearcat42",
           "/r/worldnews/comments/krcjyc/germany_catholic_officials_ask_reporters_for/gia3ajh/",
           "The journalists will disregard the NDA, which iana"
          ],
          [
           "wave_PhD",
           "/r/worldnews/comments/kr563k/no_τrump_wont_be_golfing_in_scotland_on/gi7w3wq/",
           "He should have been in a prison cell for obstructi"
          ],
          [
           "babywraith",
           "/r/worldnews/comments/kr563k/no_τrump_wont_be_golfing_in_scotland_on/gi7y2az/",
           "Why do I feel like he's gonna get away with this l"
          ],
          [
           "wodon",
           "/r/worldnews/comments/kqedv7/scottish_national_party_mp_margaret_ferrier_has/gi51cp2/",
           "It's such an insane excuse.\n\nIf she had been spott"
          ],
          [
           "Romeo9594",
           "/r/worldnews/comments/kr563k/no_τrump_wont_be_golfing_in_scotland_on/gi8btxt/",
           "I have a feeling that while a solid chunk of that "
          ],
          [
           "robbie-3x",
           "/r/worldnews/comments/kr563k/no_τrump_wont_be_golfing_in_scotland_on/gi9uyb0/",
           "I like the guy who bought a square foot or somethi"
          ],
          [
           "urkldajrkl",
           "/r/worldnews/comments/kr4zry/china_blocks_who_investigators_access_to_wuhan/gi7tj23/",
           "The Pooh lies.  The Pooh is a worthless travesty o"
          ],
          [
           "AdvancedAdvance",
           "/r/worldnews/comments/kr563k/no_τrump_wont_be_golfing_in_scotland_on/gi7qw2e/",
           "Are we surprised the man is trying to flee to a go"
          ],
          [
           "ErikTheAngry",
           "/r/worldnews/comments/kr563k/no_τrump_wont_be_golfing_in_scotland_on/gi7ykgc/",
           "He won't talk about golf though, he'll talk shit a"
          ],
          [
           "BanjoPanda",
           "/r/worldnews/comments/krb4ok/the_mother_of_a_nineyearold_boy_with_a_rare_and/gi9gfto/",
           "150 seizures a week jesus christ that's fucked up"
          ]
         ],
         "hovertemplate": "sentiment=negative<br>Date comment was posted=%{x}<br>Comment positivity=%{y}<br>score=%{marker.size}<br>author=%{customdata[0]}<br>permalink=%{customdata[1]}<br>preview=%{customdata[2]}<extra></extra>",
         "legendgroup": "negative",
         "marker": {
          "color": "indianred",
          "size": [
           749,
           635,
           549,
           516,
           379,
           378,
           270,
           254,
           194,
           186,
           184,
           180,
           171,
           166,
           165,
           159,
           150,
           150,
           148,
           147,
           143,
           137,
           137,
           135,
           134,
           131,
           127,
           124,
           121,
           121,
           115
          ],
          "sizemode": "area",
          "sizeref": 24.16,
          "symbol": "circle"
         },
         "mode": "markers",
         "name": "negative",
         "orientation": "v",
         "showlegend": true,
         "type": "scatter",
         "x": [
          "2021-01-05T20:27:25",
          "2021-01-06T00:36:02",
          "2021-01-05T01:37:27",
          "2021-01-05T01:47:21",
          "2021-01-06T10:23:44",
          "2021-01-05T20:20:11",
          "2021-01-05T21:42:07",
          "2021-01-06T18:41:31",
          "2021-01-06T04:42:24",
          "2021-01-06T04:41:11",
          "2021-01-06T08:42:19",
          "2021-01-05T21:26:51",
          "2021-01-05T23:14:51",
          "2021-01-06T05:50:49",
          "2021-01-06T11:33:18",
          "2021-01-06T03:37:25",
          "2021-01-05T22:06:40",
          "2021-01-06T01:42:43",
          "2021-01-05T19:44:19",
          "2021-01-06T04:56:15",
          "2021-01-06T12:16:29",
          "2021-01-06T06:52:12",
          "2021-01-05T20:25:17",
          "2021-01-05T20:37:37",
          "2021-01-05T02:50:47",
          "2021-01-05T22:06:36",
          "2021-01-06T05:18:20",
          "2021-01-05T20:08:53",
          "2021-01-05T19:53:54",
          "2021-01-05T20:40:54",
          "2021-01-06T03:12:04"
         ],
         "xaxis": "x",
         "y": [
          -0.13333333333333333,
          -0.26666666666666666,
          -0.09999999999999999,
          -0.2833333333333333,
          -1.850371707708594e-17,
          -0.125,
          -0.033333333333333326,
          -0.15555555555555559,
          -0.3333333333333333,
          -0.01339285714285715,
          -0.125,
          -0.024999999999999994,
          -0.1125,
          -0.6999999999999998,
          -0.08055555555555555,
          -0.00555555555555556,
          -0.08750000000000001,
          -0.04145021645021644,
          -0.25,
          -0.24583333333333335,
          -0.0875,
          -0.11462585034013603,
          -0.6999999999999998,
          -0.125,
          -0.35285714285714287,
          -0.2,
          -0.1,
          -0.4,
          -0.13749999999999998,
          -0.225,
          -0.325
         ],
         "yaxis": "y"
        }
       ],
       "layout": {
        "legend": {
         "itemsizing": "constant",
         "title": {
          "text": "sentiment"
         },
         "tracegroupgap": 0
        },
        "template": {
         "data": {
          "bar": [
           {
            "error_x": {
             "color": "#2a3f5f"
            },
            "error_y": {
             "color": "#2a3f5f"
            },
            "marker": {
             "line": {
              "color": "#E5ECF6",
              "width": 0.5
             }
            },
            "type": "bar"
           }
          ],
          "barpolar": [
           {
            "marker": {
             "line": {
              "color": "#E5ECF6",
              "width": 0.5
             }
            },
            "type": "barpolar"
           }
          ],
          "carpet": [
           {
            "aaxis": {
             "endlinecolor": "#2a3f5f",
             "gridcolor": "white",
             "linecolor": "white",
             "minorgridcolor": "white",
             "startlinecolor": "#2a3f5f"
            },
            "baxis": {
             "endlinecolor": "#2a3f5f",
             "gridcolor": "white",
             "linecolor": "white",
             "minorgridcolor": "white",
             "startlinecolor": "#2a3f5f"
            },
            "type": "carpet"
           }
          ],
          "choropleth": [
           {
            "colorbar": {
             "outlinewidth": 0,
             "ticks": ""
            },
            "type": "choropleth"
           }
          ],
          "contour": [
           {
            "colorbar": {
             "outlinewidth": 0,
             "ticks": ""
            },
            "colorscale": [
             [
              0,
              "#0d0887"
             ],
             [
              0.1111111111111111,
              "#46039f"
             ],
             [
              0.2222222222222222,
              "#7201a8"
             ],
             [
              0.3333333333333333,
              "#9c179e"
             ],
             [
              0.4444444444444444,
              "#bd3786"
             ],
             [
              0.5555555555555556,
              "#d8576b"
             ],
             [
              0.6666666666666666,
              "#ed7953"
             ],
             [
              0.7777777777777778,
              "#fb9f3a"
             ],
             [
              0.8888888888888888,
              "#fdca26"
             ],
             [
              1,
              "#f0f921"
             ]
            ],
            "type": "contour"
           }
          ],
          "contourcarpet": [
           {
            "colorbar": {
             "outlinewidth": 0,
             "ticks": ""
            },
            "type": "contourcarpet"
           }
          ],
          "heatmap": [
           {
            "colorbar": {
             "outlinewidth": 0,
             "ticks": ""
            },
            "colorscale": [
             [
              0,
              "#0d0887"
             ],
             [
              0.1111111111111111,
              "#46039f"
             ],
             [
              0.2222222222222222,
              "#7201a8"
             ],
             [
              0.3333333333333333,
              "#9c179e"
             ],
             [
              0.4444444444444444,
              "#bd3786"
             ],
             [
              0.5555555555555556,
              "#d8576b"
             ],
             [
              0.6666666666666666,
              "#ed7953"
             ],
             [
              0.7777777777777778,
              "#fb9f3a"
             ],
             [
              0.8888888888888888,
              "#fdca26"
             ],
             [
              1,
              "#f0f921"
             ]
            ],
            "type": "heatmap"
           }
          ],
          "heatmapgl": [
           {
            "colorbar": {
             "outlinewidth": 0,
             "ticks": ""
            },
            "colorscale": [
             [
              0,
              "#0d0887"
             ],
             [
              0.1111111111111111,
              "#46039f"
             ],
             [
              0.2222222222222222,
              "#7201a8"
             ],
             [
              0.3333333333333333,
              "#9c179e"
             ],
             [
              0.4444444444444444,
              "#bd3786"
             ],
             [
              0.5555555555555556,
              "#d8576b"
             ],
             [
              0.6666666666666666,
              "#ed7953"
             ],
             [
              0.7777777777777778,
              "#fb9f3a"
             ],
             [
              0.8888888888888888,
              "#fdca26"
             ],
             [
              1,
              "#f0f921"
             ]
            ],
            "type": "heatmapgl"
           }
          ],
          "histogram": [
           {
            "marker": {
             "colorbar": {
              "outlinewidth": 0,
              "ticks": ""
             }
            },
            "type": "histogram"
           }
          ],
          "histogram2d": [
           {
            "colorbar": {
             "outlinewidth": 0,
             "ticks": ""
            },
            "colorscale": [
             [
              0,
              "#0d0887"
             ],
             [
              0.1111111111111111,
              "#46039f"
             ],
             [
              0.2222222222222222,
              "#7201a8"
             ],
             [
              0.3333333333333333,
              "#9c179e"
             ],
             [
              0.4444444444444444,
              "#bd3786"
             ],
             [
              0.5555555555555556,
              "#d8576b"
             ],
             [
              0.6666666666666666,
              "#ed7953"
             ],
             [
              0.7777777777777778,
              "#fb9f3a"
             ],
             [
              0.8888888888888888,
              "#fdca26"
             ],
             [
              1,
              "#f0f921"
             ]
            ],
            "type": "histogram2d"
           }
          ],
          "histogram2dcontour": [
           {
            "colorbar": {
             "outlinewidth": 0,
             "ticks": ""
            },
            "colorscale": [
             [
              0,
              "#0d0887"
             ],
             [
              0.1111111111111111,
              "#46039f"
             ],
             [
              0.2222222222222222,
              "#7201a8"
             ],
             [
              0.3333333333333333,
              "#9c179e"
             ],
             [
              0.4444444444444444,
              "#bd3786"
             ],
             [
              0.5555555555555556,
              "#d8576b"
             ],
             [
              0.6666666666666666,
              "#ed7953"
             ],
             [
              0.7777777777777778,
              "#fb9f3a"
             ],
             [
              0.8888888888888888,
              "#fdca26"
             ],
             [
              1,
              "#f0f921"
             ]
            ],
            "type": "histogram2dcontour"
           }
          ],
          "mesh3d": [
           {
            "colorbar": {
             "outlinewidth": 0,
             "ticks": ""
            },
            "type": "mesh3d"
           }
          ],
          "parcoords": [
           {
            "line": {
             "colorbar": {
              "outlinewidth": 0,
              "ticks": ""
             }
            },
            "type": "parcoords"
           }
          ],
          "pie": [
           {
            "automargin": true,
            "type": "pie"
           }
          ],
          "scatter": [
           {
            "marker": {
             "colorbar": {
              "outlinewidth": 0,
              "ticks": ""
             }
            },
            "type": "scatter"
           }
          ],
          "scatter3d": [
           {
            "line": {
             "colorbar": {
              "outlinewidth": 0,
              "ticks": ""
             }
            },
            "marker": {
             "colorbar": {
              "outlinewidth": 0,
              "ticks": ""
             }
            },
            "type": "scatter3d"
           }
          ],
          "scattercarpet": [
           {
            "marker": {
             "colorbar": {
              "outlinewidth": 0,
              "ticks": ""
             }
            },
            "type": "scattercarpet"
           }
          ],
          "scattergeo": [
           {
            "marker": {
             "colorbar": {
              "outlinewidth": 0,
              "ticks": ""
             }
            },
            "type": "scattergeo"
           }
          ],
          "scattergl": [
           {
            "marker": {
             "colorbar": {
              "outlinewidth": 0,
              "ticks": ""
             }
            },
            "type": "scattergl"
           }
          ],
          "scattermapbox": [
           {
            "marker": {
             "colorbar": {
              "outlinewidth": 0,
              "ticks": ""
             }
            },
            "type": "scattermapbox"
           }
          ],
          "scatterpolar": [
           {
            "marker": {
             "colorbar": {
              "outlinewidth": 0,
              "ticks": ""
             }
            },
            "type": "scatterpolar"
           }
          ],
          "scatterpolargl": [
           {
            "marker": {
             "colorbar": {
              "outlinewidth": 0,
              "ticks": ""
             }
            },
            "type": "scatterpolargl"
           }
          ],
          "scatterternary": [
           {
            "marker": {
             "colorbar": {
              "outlinewidth": 0,
              "ticks": ""
             }
            },
            "type": "scatterternary"
           }
          ],
          "surface": [
           {
            "colorbar": {
             "outlinewidth": 0,
             "ticks": ""
            },
            "colorscale": [
             [
              0,
              "#0d0887"
             ],
             [
              0.1111111111111111,
              "#46039f"
             ],
             [
              0.2222222222222222,
              "#7201a8"
             ],
             [
              0.3333333333333333,
              "#9c179e"
             ],
             [
              0.4444444444444444,
              "#bd3786"
             ],
             [
              0.5555555555555556,
              "#d8576b"
             ],
             [
              0.6666666666666666,
              "#ed7953"
             ],
             [
              0.7777777777777778,
              "#fb9f3a"
             ],
             [
              0.8888888888888888,
              "#fdca26"
             ],
             [
              1,
              "#f0f921"
             ]
            ],
            "type": "surface"
           }
          ],
          "table": [
           {
            "cells": {
             "fill": {
              "color": "#EBF0F8"
             },
             "line": {
              "color": "white"
             }
            },
            "header": {
             "fill": {
              "color": "#C8D4E3"
             },
             "line": {
              "color": "white"
             }
            },
            "type": "table"
           }
          ]
         },
         "layout": {
          "annotationdefaults": {
           "arrowcolor": "#2a3f5f",
           "arrowhead": 0,
           "arrowwidth": 1
          },
          "coloraxis": {
           "colorbar": {
            "outlinewidth": 0,
            "ticks": ""
           }
          },
          "colorscale": {
           "diverging": [
            [
             0,
             "#8e0152"
            ],
            [
             0.1,
             "#c51b7d"
            ],
            [
             0.2,
             "#de77ae"
            ],
            [
             0.3,
             "#f1b6da"
            ],
            [
             0.4,
             "#fde0ef"
            ],
            [
             0.5,
             "#f7f7f7"
            ],
            [
             0.6,
             "#e6f5d0"
            ],
            [
             0.7,
             "#b8e186"
            ],
            [
             0.8,
             "#7fbc41"
            ],
            [
             0.9,
             "#4d9221"
            ],
            [
             1,
             "#276419"
            ]
           ],
           "sequential": [
            [
             0,
             "#0d0887"
            ],
            [
             0.1111111111111111,
             "#46039f"
            ],
            [
             0.2222222222222222,
             "#7201a8"
            ],
            [
             0.3333333333333333,
             "#9c179e"
            ],
            [
             0.4444444444444444,
             "#bd3786"
            ],
            [
             0.5555555555555556,
             "#d8576b"
            ],
            [
             0.6666666666666666,
             "#ed7953"
            ],
            [
             0.7777777777777778,
             "#fb9f3a"
            ],
            [
             0.8888888888888888,
             "#fdca26"
            ],
            [
             1,
             "#f0f921"
            ]
           ],
           "sequentialminus": [
            [
             0,
             "#0d0887"
            ],
            [
             0.1111111111111111,
             "#46039f"
            ],
            [
             0.2222222222222222,
             "#7201a8"
            ],
            [
             0.3333333333333333,
             "#9c179e"
            ],
            [
             0.4444444444444444,
             "#bd3786"
            ],
            [
             0.5555555555555556,
             "#d8576b"
            ],
            [
             0.6666666666666666,
             "#ed7953"
            ],
            [
             0.7777777777777778,
             "#fb9f3a"
            ],
            [
             0.8888888888888888,
             "#fdca26"
            ],
            [
             1,
             "#f0f921"
            ]
           ]
          },
          "colorway": [
           "#636efa",
           "#EF553B",
           "#00cc96",
           "#ab63fa",
           "#FFA15A",
           "#19d3f3",
           "#FF6692",
           "#B6E880",
           "#FF97FF",
           "#FECB52"
          ],
          "font": {
           "color": "#2a3f5f"
          },
          "geo": {
           "bgcolor": "white",
           "lakecolor": "white",
           "landcolor": "#E5ECF6",
           "showlakes": true,
           "showland": true,
           "subunitcolor": "white"
          },
          "hoverlabel": {
           "align": "left"
          },
          "hovermode": "closest",
          "mapbox": {
           "style": "light"
          },
          "paper_bgcolor": "white",
          "plot_bgcolor": "#E5ECF6",
          "polar": {
           "angularaxis": {
            "gridcolor": "white",
            "linecolor": "white",
            "ticks": ""
           },
           "bgcolor": "#E5ECF6",
           "radialaxis": {
            "gridcolor": "white",
            "linecolor": "white",
            "ticks": ""
           }
          },
          "scene": {
           "xaxis": {
            "backgroundcolor": "#E5ECF6",
            "gridcolor": "white",
            "gridwidth": 2,
            "linecolor": "white",
            "showbackground": true,
            "ticks": "",
            "zerolinecolor": "white"
           },
           "yaxis": {
            "backgroundcolor": "#E5ECF6",
            "gridcolor": "white",
            "gridwidth": 2,
            "linecolor": "white",
            "showbackground": true,
            "ticks": "",
            "zerolinecolor": "white"
           },
           "zaxis": {
            "backgroundcolor": "#E5ECF6",
            "gridcolor": "white",
            "gridwidth": 2,
            "linecolor": "white",
            "showbackground": true,
            "ticks": "",
            "zerolinecolor": "white"
           }
          },
          "shapedefaults": {
           "line": {
            "color": "#2a3f5f"
           }
          },
          "ternary": {
           "aaxis": {
            "gridcolor": "white",
            "linecolor": "white",
            "ticks": ""
           },
           "baxis": {
            "gridcolor": "white",
            "linecolor": "white",
            "ticks": ""
           },
           "bgcolor": "#E5ECF6",
           "caxis": {
            "gridcolor": "white",
            "linecolor": "white",
            "ticks": ""
           }
          },
          "title": {
           "x": 0.05
          },
          "xaxis": {
           "automargin": true,
           "gridcolor": "white",
           "linecolor": "white",
           "ticks": "",
           "title": {
            "standoff": 15
           },
           "zerolinecolor": "white",
           "zerolinewidth": 2
          },
          "yaxis": {
           "automargin": true,
           "gridcolor": "white",
           "linecolor": "white",
           "ticks": "",
           "title": {
            "standoff": 15
           },
           "zerolinecolor": "white",
           "zerolinewidth": 2
          }
         }
        },
        "title": {
         "text": "Comment sentiment in r/worldnews for the past 48h"
        },
        "xaxis": {
         "anchor": "y",
         "domain": [
          0,
          1
         ],
         "title": {
          "text": "Date comment was posted"
         }
        },
        "yaxis": {
         "anchor": "x",
         "domain": [
          0,
          1
         ],
         "title": {
          "text": "Comment positivity"
         }
        }
       }
      },
      "text/html": [
       "<div>\n",
       "        \n",
       "        \n",
       "            <div id=\"55324515-affc-49f8-b0f9-fc631df8646d\" class=\"plotly-graph-div\" style=\"height:525px; width:100%;\"></div>\n",
       "            <script type=\"text/javascript\">\n",
       "                require([\"plotly\"], function(Plotly) {\n",
       "                    window.PLOTLYENV=window.PLOTLYENV || {};\n",
       "                    \n",
       "                if (document.getElementById(\"55324515-affc-49f8-b0f9-fc631df8646d\")) {\n",
       "                    Plotly.newPlot(\n",
       "                        '55324515-affc-49f8-b0f9-fc631df8646d',\n",
       "                        [{\"customdata\": [[\"RzK\", \"/r/worldnews/comments/kr563k/no_\\u03c4rump_wont_be_golfing_in_scotland_on/gi7xd9t/\", \"Putin already got his use out of him. That'd be li\"], [\"Dread168\", \"/r/worldnews/comments/kr563k/no_\\u03c4rump_wont_be_golfing_in_scotland_on/gi7uyhn/\", \"Putin should invite him to play golf in Moscow in \"], [\"ErikTheAngry\", \"/r/worldnews/comments/kr563k/no_\\u03c4rump_wont_be_golfing_in_scotland_on/gi7zhe4/\", \"Somewhat ironically, I hear that a great many esco\"], [\"Politicshatesme\", \"/r/worldnews/comments/kr563k/no_\\u03c4rump_wont_be_golfing_in_scotland_on/gi83zn8/\", \"Imagine if countries treated mental health as impo\"], [\"Vik1ng\", \"/r/worldnews/comments/krcjyc/germany_catholic_officials_ask_reporters_for/gi9ykxq/\", \"Just take a confession afterwards. Easy.\"], [\"CillyBonnolly\", \"/r/worldnews/comments/kr563k/no_\\u03c4rump_wont_be_golfing_in_scotland_on/gi8e27l/\", \"As a fellow Scot, I\\u2019d just like to add Donald Trum\"], [\"kuhnty\", \"/r/worldnews/comments/kr563k/no_\\u03c4rump_wont_be_golfing_in_scotland_on/gi8k2z7/\", \"Another Scot, I\\u2019d happily take a shit on his golf \"], [\"swizzcheez\", \"/r/worldnews/comments/krcjyc/germany_catholic_officials_ask_reporters_for/gi9bkc4/\", \"Pretty much an oppressed conference.\"], [\"tofuroll\", \"/r/worldnews/comments/kr563k/no_\\u03c4rump_wont_be_golfing_in_scotland_on/gi84jwp/\", \"That's just the market filling a need. /s\"], [\"The-True-Kehlder\", \"/r/worldnews/comments/krcjyc/germany_catholic_officials_ask_reporters_for/gi9w0g7/\", \"Seems to me like someone should have taken one for\"], [\"Fidel_Chadstro\", \"/r/worldnews/comments/kr563k/no_\\u03c4rump_wont_be_golfing_in_scotland_on/gi853cb/\", \"Oh magic hand of the free market, what should we d\"], [\"jimmymaccricket\", \"/r/worldnews/comments/kr563k/no_\\u03c4rump_wont_be_golfing_in_scotland_on/gi7y24d/\", \"Rich people get visas by having money, basically. \"], [\"Terminal_To_Myself\", \"/r/worldnews/comments/kr563k/no_\\u03c4rump_wont_be_golfing_in_scotland_on/gi863bx/\", \"If he does Prestwick Airport is only 40 mins from \"], [\"Caraes_Naur\", \"/r/worldnews/comments/krcjyc/germany_catholic_officials_ask_reporters_for/gi96401/\", \"So, the exact opposite of a press conference.\"], [\"sqgl\", \"/r/worldnews/comments/krjuuq/new_zealands_covid_response_was_so_good_mortality/giaudp8/\", \"Australia too. Almost no flu deaths (think it was \"], [\"TootsNYC\", \"/r/worldnews/comments/kqedv7/scottish_national_party_mp_margaret_ferrier_has/gi4qvjy/\", \"\\u201cThis is not who I am\\u201d\\n&gt; Ms Ferrier publicly ap\"], [\"Topcity36\", \"/r/worldnews/comments/krcjyc/germany_catholic_officials_ask_reporters_for/gi9ypfy/\", \"This guy Catholics!\"], [\"egorey23\", \"/r/worldnews/comments/kqedv7/scottish_national_party_mp_margaret_ferrier_has/gi4s0f6/\", \"This made me laugh out loud. I had COVID in June a\"], [\"ActualSpiders\", \"/r/worldnews/comments/kqedv7/scottish_national_party_mp_margaret_ferrier_has/gi4utyi/\", \"As an American, I have daydreams about things like\"], [\"Solo_is_my_copliot\", \"/r/worldnews/comments/kr563k/no_\\u03c4rump_wont_be_golfing_in_scotland_on/gi8p5cm/\", \"As a favor to an American, before you do, can you \"], [\"CanuckSalaryman\", \"/r/worldnews/comments/kr563k/no_\\u03c4rump_wont_be_golfing_in_scotland_on/gi858y8/\", \"But if he has to prove how much money he has, he w\"], [\"AllPurposeNerd\", \"/r/worldnews/comments/krcjyc/germany_catholic_officials_ask_reporters_for/gia1ihj/\", \"Our chief weapon is injunctions. Injunctions and s\"], [\"dancingking84\", \"/r/worldnews/comments/krjuuq/new_zealands_covid_response_was_so_good_mortality/gib3i2x/\", \"The US actually has had more deaths from covid tha\"], [\"Bipedal_Warlock\", \"/r/worldnews/comments/krjuuq/new_zealands_covid_response_was_so_good_mortality/giayc13/\", \"US flu has gone down dramatically, but we more tha\"], [\"HiThisisCarson\", \"/r/worldnews/comments/krfltw/who_team_blocked_from_entering_china_to_study/gia2pne/\", \"One reason could be to avoid helping China with th\"], [\"arvigeus\", \"/r/worldnews/comments/krfltw/who_team_blocked_from_entering_china_to_study/gia5drq/\", \"WHO: Praises China for its openness and transparen\"], [\"stressHCLB\", \"/r/worldnews/comments/krcjyc/germany_catholic_officials_ask_reporters_for/gi9cp3k/\", \"No one expects the Italian Deposition!\"], [\"stressHCLB\", \"/r/worldnews/comments/krcjyc/germany_catholic_officials_ask_reporters_for/gi9ctex/\", \"So the Church can say they are being open and tran\"], [\"Fishyswaze\", \"/r/worldnews/comments/kr563k/no_\\u03c4rump_wont_be_golfing_in_scotland_on/gi8bnp1/\", \"Maybe the answer is more prostitutes and we just h\"], [\"SnooDoubts826\", \"/r/worldnews/comments/krcost/a_leaked_audio_tape_of_the_thenhead_of_the/gi9xz4l/\", \" \\n\\nA leaked audio tape of the then-head of the Bel\"], [\"Bioschnaps\", \"/r/worldnews/comments/krfltw/who_team_blocked_from_entering_china_to_study/gianztg/\", \"To add to that: only Sachsenhausen was used in thi\"], [\"gebregl\", \"/r/worldnews/comments/kqmxfx/jack_ma_is_missing/gi4wmsf/\", \"This happens in China when people are arrested. Tw\"], [\"Eternal_Endeavour_\", \"/r/worldnews/comments/krcjyc/germany_catholic_officials_ask_reporters_for/gi9e2gx/\", \"Make them pay taxes while we're at it!\"], [\"urjstgonnabremoved\", \"/r/worldnews/comments/krswg2/whatsapps_new_terms_wont_let_you_opt_out_of/gibpe9z/\", \"and since you are sharing data with Facebook, you \"], [\"hitemlow\", \"/r/worldnews/comments/krdpbr/911style_threat_to_attack_dc_was_broadcasted_over/gi9clo2/\", \"&gt;It is assessed that the technician responsible\"], [\"Material-Actuator-24\", \"/r/worldnews/comments/krfltw/who_team_blocked_from_entering_china_to_study/gia0u4o/\", \"WHO has never had a real reason to \\\"investigate an\"], [\"edstatue\", \"/r/worldnews/comments/kr563k/no_\\u03c4rump_wont_be_golfing_in_scotland_on/gi8dupy/\", \"Trump famously does not pay debts. He's the opposi\"], [\"Mellz1980\", \"/r/worldnews/comments/kr563k/no_\\u03c4rump_wont_be_golfing_in_scotland_on/gi91fey/\", \"Gotta love the Scots. They keep it really real.\"], [\"Progressiveandfiscal\", \"/r/worldnews/comments/kru9wy/at_presidents_urging_some_supporters_storm/gibybk3/\", \"Interesting to see the police not open fire on a n\"], [\"casanovafrankly\", \"/r/worldnews/comments/krb4ok/the_mother_of_a_nineyearold_boy_with_a_rare_and/gi9ivy1/\", \"Yea, and honestly if I was this parent I\\u2019d just gr\"], [\"typed_this_now\", \"/r/worldnews/comments/kr563k/no_\\u03c4rump_wont_be_golfing_in_scotland_on/gi88lqt/\", \"No idea mate. I live Denmark, another socialist he\"], [\"ElysianDreams\", \"/r/worldnews/comments/kqqhi9/chinese_cities_reportedly_go_dark_as_country/gi5jqu9/\", \"&gt;It was not immediately clear whether any of th\"], [\"JarasM\", \"/r/worldnews/comments/krcjyc/germany_catholic_officials_ask_reporters_for/gia23kp/\", \"There's no point. The redacted version would anywa\"], [\"k4pain\", \"/r/worldnews/comments/kr563k/no_\\u03c4rump_wont_be_golfing_in_scotland_on/gi865mg/\", \"He's not the problem.  The dumbass 70 million peop\"], [\"SeanHIRL\", \"/r/worldnews/comments/krfltw/who_team_blocked_from_entering_china_to_study/gialc43/\", \"Meanwhile, Chinese reporter is sentenced to 4 year\"], [\"crunchierock\", \"/r/worldnews/comments/krjuuq/new_zealands_covid_response_was_so_good_mortality/giahino/\", \"Kiwi here, that's cool we still have a lot of disf\"], [\"RoundLakeBoy\", \"/r/worldnews/comments/kr563k/no_\\u03c4rump_wont_be_golfing_in_scotland_on/gi7qzoo/\", \"Nope.  The his administration is saying he didn't \"], [\"ugettingremovedtoo\", \"/r/worldnews/comments/kr6rd7/newark_police_no_officer_fired_a_single_shot_in/gi7yvw6/\", \"\\n&gt;\\\"I'm proud of the men and women of Newark pol\"], [\"JonnyArena\", \"/r/worldnews/comments/krfltw/who_team_blocked_from_entering_china_to_study/gi9lnsp/\", \"They don\\u2019t want anyone to come in and see how they\"], [\"Rockzilla78\", \"/r/worldnews/comments/kqedv7/scottish_national_party_mp_margaret_ferrier_has/gi4vurf/\", \"This must be a side effect of one of those new mut\"], [\"praftman\", \"/r/worldnews/comments/krb4ok/the_mother_of_a_nineyearold_boy_with_a_rare_and/gi9jgbz/\", \"Brexit isn't simply \\\"trade policy\\\". The blame here\"], [\"typed_this_now\", \"/r/worldnews/comments/kr563k/no_\\u03c4rump_wont_be_golfing_in_scotland_on/gi874h1/\", \"I\\u2019m almost certain disabled people in the Netherla\"], [\"Kony_Stark\", \"/r/worldnews/comments/kr563k/no_\\u03c4rump_wont_be_golfing_in_scotland_on/gi8feph/\", \"Can you take your emotional support prostitute on \"], [\"WatchingUShlick\", \"/r/worldnews/comments/krjuuq/new_zealands_covid_response_was_so_good_mortality/gib0hpq/\", \"To be fair, I wanted to move to NZ long before cov\"], [\"slackmaster2k\", \"/r/worldnews/comments/krfltw/who_team_blocked_from_entering_china_to_study/gia7vzz/\", \"Me: praises child for cleaning room.\\n\\nAlso me: lon\"], [\"This_Charmless_Man\", \"/r/worldnews/comments/kr563k/no_\\u03c4rump_wont_be_golfing_in_scotland_on/gi8687l/\", \"He was a prick to the locals so the last one refus\"], [\"blargfargr\", \"/r/worldnews/comments/kr00z7/humanitarian_aid_workers_who_fathered_children/gi8yl4r/\", \"&gt;Test cases in the Philippines found men from A\"], [\"SigmundSalonen\", \"/r/worldnews/comments/krjuuq/new_zealands_covid_response_was_so_good_mortality/giacnv5/\", \"Maybe, just maybe it's a good fucking idea to put \"], [\"maqcky\", \"/r/worldnews/comments/krfltw/who_team_blocked_from_entering_china_to_study/giak6rm/\", \"I was told the story while visiting the Sachsenhau\"], [\"EmotionalProgress723\", \"/r/worldnews/comments/kqwn6c/egypt_entire_icu_ward_dies_after_oxygen_supply/gi88cm1/\", \"I know another guy that uses that same tactic.\"], [\"sweetno\", \"/r/worldnews/comments/krcost/a_leaked_audio_tape_of_the_thenhead_of_the/gi9nrrg/\", \"Didn't they say everyone concerned already knew ab\"], [\"Snoo_94687\", \"/r/worldnews/comments/krfltw/who_team_blocked_from_entering_china_to_study/giaon35/\", \"What gives is that this website has multiple peopl\"], [\"Gulag-The-Kulaks\", \"/r/worldnews/comments/kr563k/no_\\u03c4rump_wont_be_golfing_in_scotland_on/gi917bp/\", \"If he's from Glasgow, his arse hole experiences th\"], [\"wrat11\", \"/r/worldnews/comments/krcjyc/germany_catholic_officials_ask_reporters_for/gi9gtl8/\", \"Yes. Any other organization that had as much child\"], [\"Ok_Dokie_Doke\", \"/r/worldnews/comments/krppkl/in_rare_display_of_contrition_north_korean_leader/gibvjoc/\", \"And there's a million of us just like me\\n\\nWho cuss\"], [\"NaranjaGrande\", \"/r/worldnews/comments/krqp6g/eu_calls_for_immediate_release_of_53_hong_kong/giblkly/\", \"And if you don't, we may write you a very strongly\"], [\"Xetiw\", \"/r/worldnews/comments/kqmxfx/jack_ma_is_missing/gi4y83y/\", \"Jack is a good example for people who doesnt belie\"], [\"DarthMagnus88\", \"/r/worldnews/comments/krb4ok/the_mother_of_a_nineyearold_boy_with_a_rare_and/gi9qz5f/\", \"such a master lie too, \\\"vote for this and your lif\"], [\"banacct54\", \"/r/worldnews/comments/krqp6g/eu_calls_for_immediate_release_of_53_hong_kong/gibs3c9/\", \"And sign another trade deal right after!\"]], \"hovertemplate\": \"sentiment=positive<br>Date comment was posted=%{x}<br>Comment positivity=%{y}<br>score=%{marker.size}<br>author=%{customdata[0]}<br>permalink=%{customdata[1]}<br>preview=%{customdata[2]}<extra></extra>\", \"legendgroup\": \"positive\", \"marker\": {\"color\": \"lightseagreen\", \"size\": [2416, 2106, 1339, 1156, 844, 841, 692, 582, 576, 513, 456, 451, 378, 370, 356, 342, 333, 331, 311, 293, 290, 289, 257, 256, 242, 223, 218, 218, 201, 199, 197, 190, 183, 181, 179, 175, 174, 168, 165, 165, 163, 160, 156, 154, 151, 150, 148, 145, 140, 139, 139, 135, 135, 135, 135, 133, 131, 130, 130, 128, 128, 128, 126, 126, 118, 118, 117, 115, 115], \"sizemode\": \"area\", \"sizeref\": 24.16, \"symbol\": \"circle\"}, \"mode\": \"markers\", \"name\": \"positive\", \"orientation\": \"v\", \"showlegend\": true, \"type\": \"scatter\", \"x\": [\"2021-01-05T20:33:16\", \"2021-01-05T20:17:59\", \"2021-01-05T20:46:47\", \"2021-01-05T21:15:48\", \"2021-01-06T05:55:47\", \"2021-01-05T22:21:07\", \"2021-01-05T23:00:58\", \"2021-01-06T02:32:12\", \"2021-01-05T21:19:28\", \"2021-01-06T05:28:51\", \"2021-01-05T21:22:54\", \"2021-01-05T20:37:35\", \"2021-01-05T21:29:24\", \"2021-01-06T01:47:27\", \"2021-01-06T13:30:04\", \"2021-01-05T01:21:48\", \"2021-01-06T05:57:09\", \"2021-01-05T01:31:24\", \"2021-01-05T01:55:21\", \"2021-01-05T23:35:13\", \"2021-01-05T21:23:56\", \"2021-01-06T06:29:43\", \"2021-01-06T14:56:33\", \"2021-01-06T14:09:48\", \"2021-01-06T06:44:51\", \"2021-01-06T07:20:06\", \"2021-01-06T02:41:18\", \"2021-01-06T02:42:17\", \"2021-01-05T22:05:28\", \"2021-01-06T05:49:14\", \"2021-01-06T12:11:11\", \"2021-01-05T02:10:32\", \"2021-01-06T02:52:26\", \"2021-01-06T17:46:03\", \"2021-01-06T02:40:33\", \"2021-01-06T06:21:28\", \"2021-01-05T22:19:47\", \"2021-01-06T01:08:08\", \"2021-01-06T18:51:33\", \"2021-01-06T03:32:12\", \"2021-01-05T21:45:47\", \"2021-01-05T05:51:05\", \"2021-01-06T06:37:03\", \"2021-01-05T21:29:47\", \"2021-01-06T11:31:59\", \"2021-01-06T10:30:52\", \"2021-01-05T19:54:27\", \"2021-01-05T20:42:56\", \"2021-01-06T03:55:31\", \"2021-01-05T02:03:56\", \"2021-01-06T03:36:52\", \"2021-01-05T21:36:06\", \"2021-01-05T22:29:55\", \"2021-01-06T14:29:46\", \"2021-01-06T07:55:53\", \"2021-01-05T21:30:16\", \"2021-01-06T00:44:31\", \"2021-01-06T09:10:03\", \"2021-01-06T11:14:04\", \"2021-01-05T21:44:06\", \"2021-01-06T04:13:31\", \"2021-01-06T12:20:15\", \"2021-01-06T01:06:15\", \"2021-01-06T03:15:15\", \"2021-01-06T18:31:15\", \"2021-01-06T17:18:08\", \"2021-01-05T02:23:55\", \"2021-01-06T04:41:52\", \"2021-01-06T18:05:50\"], \"xaxis\": \"x\", \"y\": [0.0, 0.0, 0.10000000000000002, 0.0375, 0.43333333333333335, 0.10000000000000003, 3.700743415417188e-17, 0.225, 0.0, 0.0, 0.26666666666666666, 0.3578571428571428, 0.3, 0.125, 0.06166666666666667, 0.0, 0.0, 0.13333333333333333, 0.0, 0.20714285714285713, 0.35833333333333334, 0.0, 0.16666666666666666, 0.17222222222222222, 0.4, 0.0125, 0.0, 0.0, 0.5, 0.05399801587301589, 0.1484126984126984, 0.0, 0.0, 0.125, 0.044974358974358974, 0.2, 0.25, 0.35, 0.32, 0.55, 0.13636363636363635, 0.08750000000000001, 0.3, 0.0, 0.0, 0.575, 0.0, 0.3482954545454545, 0.0, 0.13636363636363635, 0.0, 0.1714285714285714, 0.2, 0.32499999999999996, 0.15833333333333335, 0.26666666666666666, 0.4375, 0.033333333333333326, 0.020670995670995673, 0.0, 0.0, 0.0, 0.0, 0.018499999999999982, 0.5, 0.5633333333333334, 0.1857142857142857, 0.3, 0.3571428571428571], \"yaxis\": \"y\"}, {\"customdata\": [[\"SpankThuMonkey\", \"/r/worldnews/comments/kr563k/no_\\u03c4rump_wont_be_golfing_in_scotland_on/gi7wgck/\", \"I\\u2019ve known fellow Scots on all sides of the politi\"], [\"Whiskey-Weather\", \"/r/worldnews/comments/kr563k/no_\\u03c4rump_wont_be_golfing_in_scotland_on/gi8xkwe/\", \"American here, seeing how the Scots feel about Tru\"], [\"SexLiesAndExercise\", \"/r/worldnews/comments/kqedv7/scottish_national_party_mp_margaret_ferrier_has/gi4sq2t/\", \"Likewise.\\n\\nAlso worth pointing out that the SNP ha\"], [\"Enkundae\", \"/r/worldnews/comments/kqedv7/scottish_national_party_mp_margaret_ferrier_has/gi4tvtt/\", \"\\u201cShe fucked up and she was correctly held accounta\"], [\"maqcky\", \"/r/worldnews/comments/krfltw/who_team_blocked_from_entering_china_to_study/giah385/\", \"That's exactly what Germany did with their camps b\"], [\"shillyshally\", \"/r/worldnews/comments/kr563k/no_\\u03c4rump_wont_be_golfing_in_scotland_on/gi7vb4j/\", \"Can he just 'stay there'? Wouldn't he need a visa \"], [\"domine18\", \"/r/worldnews/comments/kr563k/no_\\u03c4rump_wont_be_golfing_in_scotland_on/gi881jm/\", \"He just got over half a billion from his minions t\"], [\"arcalumis\", \"/r/worldnews/comments/krsu0v/brazilian_beef_farms_used_workers_kept_in/gibwybr/\", \"Brazilian beef farmers also tear down rainforest l\"], [\"i_broke_wahoos_leg\", \"/r/worldnews/comments/krfltw/who_team_blocked_from_entering_china_to_study/gi9r1dd/\", \"Shame. Serious question, what is China's history o\"], [\"go_birds_72\", \"/r/worldnews/comments/krge72/xi_jinping_orders_chinas_military_to_be_ready_for/gi9qwii/\", \"I mean.. that\\u2019s what militaries are for, right?\"], [\"irish91\", \"/r/worldnews/comments/krcjyc/germany_catholic_officials_ask_reporters_for/giaaxsi/\", \"I'm sorry to hear this. My grandmother was the sam\"], [\"Xenomemphate\", \"/r/worldnews/comments/kr563k/no_\\u03c4rump_wont_be_golfing_in_scotland_on/gi85oy8/\", \"The usual Trump - Promising jobs and income, faili\"], [\"Lev1a\", \"/r/worldnews/comments/kr563k/no_\\u03c4rump_wont_be_golfing_in_scotland_on/gi8m56x/\", \"Why don't you guys both \\\"meet in the middle\\\" and j\"], [\"Vik1ng\", \"/r/worldnews/comments/krcjyc/germany_catholic_officials_ask_reporters_for/gi9y4k0/\", \"The church commissioned a report. Then didn't publ\"], [\"ratataisbest\", \"/r/worldnews/comments/krjuuq/new_zealands_covid_response_was_so_good_mortality/gialf7s/\", \"That's what happens when you shut down everything.\"], [\"tammage\", \"/r/worldnews/comments/krcjyc/germany_catholic_officials_ask_reporters_for/gi9jiql/\", \"My dad spent years in a home run by the Catholic C\"], [\"BrownSugarBare\", \"/r/worldnews/comments/kr563k/no_\\u03c4rump_wont_be_golfing_in_scotland_on/gi8bucz/\", \"Not surprised at all he'll attempt to flee. Howeve\"], [\"urjstgonnabremoved\", \"/r/worldnews/comments/krcjyc/germany_catholic_officials_ask_reporters_for/gi95jsq/\", \"&gt;Church representatives said they would show jo\"], [\"White_Freckles\", \"/r/worldnews/comments/kr563k/no_\\u03c4rump_wont_be_golfing_in_scotland_on/gi7p3jb/\", \"He's going to deny it was his plan, \\\"fake news tot\"], [\"JohnnyZepp\", \"/r/worldnews/comments/krcjyc/germany_catholic_officials_ask_reporters_for/gi9skxe/\", \"I just don\\u2019t get it. How hard is it NOT to fuck ch\"], [\"SteveBored\", \"/r/worldnews/comments/krjuuq/new_zealands_covid_response_was_so_good_mortality/giaodci/\", \"I left NZ for Texas. Now my wife had to have an em\"], [\"bearcat42\", \"/r/worldnews/comments/krcjyc/germany_catholic_officials_ask_reporters_for/gia3ajh/\", \"The journalists will disregard the NDA, which iana\"], [\"wave_PhD\", \"/r/worldnews/comments/kr563k/no_\\u03c4rump_wont_be_golfing_in_scotland_on/gi7w3wq/\", \"He should have been in a prison cell for obstructi\"], [\"babywraith\", \"/r/worldnews/comments/kr563k/no_\\u03c4rump_wont_be_golfing_in_scotland_on/gi7y2az/\", \"Why do I feel like he's gonna get away with this l\"], [\"wodon\", \"/r/worldnews/comments/kqedv7/scottish_national_party_mp_margaret_ferrier_has/gi51cp2/\", \"It's such an insane excuse.\\n\\nIf she had been spott\"], [\"Romeo9594\", \"/r/worldnews/comments/kr563k/no_\\u03c4rump_wont_be_golfing_in_scotland_on/gi8btxt/\", \"I have a feeling that while a solid chunk of that \"], [\"robbie-3x\", \"/r/worldnews/comments/kr563k/no_\\u03c4rump_wont_be_golfing_in_scotland_on/gi9uyb0/\", \"I like the guy who bought a square foot or somethi\"], [\"urkldajrkl\", \"/r/worldnews/comments/kr4zry/china_blocks_who_investigators_access_to_wuhan/gi7tj23/\", \"The Pooh lies.  The Pooh is a worthless travesty o\"], [\"AdvancedAdvance\", \"/r/worldnews/comments/kr563k/no_\\u03c4rump_wont_be_golfing_in_scotland_on/gi7qw2e/\", \"Are we surprised the man is trying to flee to a go\"], [\"ErikTheAngry\", \"/r/worldnews/comments/kr563k/no_\\u03c4rump_wont_be_golfing_in_scotland_on/gi7ykgc/\", \"He won't talk about golf though, he'll talk shit a\"], [\"BanjoPanda\", \"/r/worldnews/comments/krb4ok/the_mother_of_a_nineyearold_boy_with_a_rare_and/gi9gfto/\", \"150 seizures a week jesus christ that's fucked up\"]], \"hovertemplate\": \"sentiment=negative<br>Date comment was posted=%{x}<br>Comment positivity=%{y}<br>score=%{marker.size}<br>author=%{customdata[0]}<br>permalink=%{customdata[1]}<br>preview=%{customdata[2]}<extra></extra>\", \"legendgroup\": \"negative\", \"marker\": {\"color\": \"indianred\", \"size\": [749, 635, 549, 516, 379, 378, 270, 254, 194, 186, 184, 180, 171, 166, 165, 159, 150, 150, 148, 147, 143, 137, 137, 135, 134, 131, 127, 124, 121, 121, 115], \"sizemode\": \"area\", \"sizeref\": 24.16, \"symbol\": \"circle\"}, \"mode\": \"markers\", \"name\": \"negative\", \"orientation\": \"v\", \"showlegend\": true, \"type\": \"scatter\", \"x\": [\"2021-01-05T20:27:25\", \"2021-01-06T00:36:02\", \"2021-01-05T01:37:27\", \"2021-01-05T01:47:21\", \"2021-01-06T10:23:44\", \"2021-01-05T20:20:11\", \"2021-01-05T21:42:07\", \"2021-01-06T18:41:31\", \"2021-01-06T04:42:24\", \"2021-01-06T04:41:11\", \"2021-01-06T08:42:19\", \"2021-01-05T21:26:51\", \"2021-01-05T23:14:51\", \"2021-01-06T05:50:49\", \"2021-01-06T11:33:18\", \"2021-01-06T03:37:25\", \"2021-01-05T22:06:40\", \"2021-01-06T01:42:43\", \"2021-01-05T19:44:19\", \"2021-01-06T04:56:15\", \"2021-01-06T12:16:29\", \"2021-01-06T06:52:12\", \"2021-01-05T20:25:17\", \"2021-01-05T20:37:37\", \"2021-01-05T02:50:47\", \"2021-01-05T22:06:36\", \"2021-01-06T05:18:20\", \"2021-01-05T20:08:53\", \"2021-01-05T19:53:54\", \"2021-01-05T20:40:54\", \"2021-01-06T03:12:04\"], \"xaxis\": \"x\", \"y\": [-0.13333333333333333, -0.26666666666666666, -0.09999999999999999, -0.2833333333333333, -1.850371707708594e-17, -0.125, -0.033333333333333326, -0.15555555555555559, -0.3333333333333333, -0.01339285714285715, -0.125, -0.024999999999999994, -0.1125, -0.6999999999999998, -0.08055555555555555, -0.00555555555555556, -0.08750000000000001, -0.04145021645021644, -0.25, -0.24583333333333335, -0.0875, -0.11462585034013603, -0.6999999999999998, -0.125, -0.35285714285714287, -0.2, -0.1, -0.4, -0.13749999999999998, -0.225, -0.325], \"yaxis\": \"y\"}],\n",
       "                        {\"legend\": {\"itemsizing\": \"constant\", \"title\": {\"text\": \"sentiment\"}, \"tracegroupgap\": 0}, \"template\": {\"data\": {\"bar\": [{\"error_x\": {\"color\": \"#2a3f5f\"}, \"error_y\": {\"color\": \"#2a3f5f\"}, \"marker\": {\"line\": {\"color\": \"#E5ECF6\", \"width\": 0.5}}, \"type\": \"bar\"}], \"barpolar\": [{\"marker\": {\"line\": {\"color\": \"#E5ECF6\", \"width\": 0.5}}, \"type\": \"barpolar\"}], \"carpet\": [{\"aaxis\": {\"endlinecolor\": \"#2a3f5f\", \"gridcolor\": \"white\", \"linecolor\": \"white\", \"minorgridcolor\": \"white\", \"startlinecolor\": \"#2a3f5f\"}, \"baxis\": {\"endlinecolor\": \"#2a3f5f\", \"gridcolor\": \"white\", \"linecolor\": \"white\", \"minorgridcolor\": \"white\", \"startlinecolor\": \"#2a3f5f\"}, \"type\": \"carpet\"}], \"choropleth\": [{\"colorbar\": {\"outlinewidth\": 0, \"ticks\": \"\"}, \"type\": \"choropleth\"}], \"contour\": [{\"colorbar\": {\"outlinewidth\": 0, \"ticks\": \"\"}, \"colorscale\": [[0.0, \"#0d0887\"], [0.1111111111111111, \"#46039f\"], [0.2222222222222222, \"#7201a8\"], [0.3333333333333333, \"#9c179e\"], [0.4444444444444444, \"#bd3786\"], [0.5555555555555556, \"#d8576b\"], [0.6666666666666666, \"#ed7953\"], [0.7777777777777778, \"#fb9f3a\"], [0.8888888888888888, \"#fdca26\"], [1.0, \"#f0f921\"]], \"type\": \"contour\"}], \"contourcarpet\": [{\"colorbar\": {\"outlinewidth\": 0, \"ticks\": \"\"}, \"type\": \"contourcarpet\"}], \"heatmap\": [{\"colorbar\": {\"outlinewidth\": 0, \"ticks\": \"\"}, \"colorscale\": [[0.0, \"#0d0887\"], [0.1111111111111111, \"#46039f\"], [0.2222222222222222, \"#7201a8\"], [0.3333333333333333, \"#9c179e\"], [0.4444444444444444, \"#bd3786\"], [0.5555555555555556, \"#d8576b\"], [0.6666666666666666, \"#ed7953\"], [0.7777777777777778, \"#fb9f3a\"], [0.8888888888888888, \"#fdca26\"], [1.0, \"#f0f921\"]], \"type\": \"heatmap\"}], \"heatmapgl\": [{\"colorbar\": {\"outlinewidth\": 0, \"ticks\": \"\"}, \"colorscale\": [[0.0, \"#0d0887\"], [0.1111111111111111, \"#46039f\"], [0.2222222222222222, \"#7201a8\"], [0.3333333333333333, \"#9c179e\"], [0.4444444444444444, \"#bd3786\"], [0.5555555555555556, \"#d8576b\"], [0.6666666666666666, \"#ed7953\"], [0.7777777777777778, \"#fb9f3a\"], [0.8888888888888888, \"#fdca26\"], [1.0, \"#f0f921\"]], \"type\": \"heatmapgl\"}], \"histogram\": [{\"marker\": {\"colorbar\": {\"outlinewidth\": 0, \"ticks\": \"\"}}, \"type\": \"histogram\"}], \"histogram2d\": [{\"colorbar\": {\"outlinewidth\": 0, \"ticks\": \"\"}, \"colorscale\": [[0.0, \"#0d0887\"], [0.1111111111111111, \"#46039f\"], [0.2222222222222222, \"#7201a8\"], [0.3333333333333333, \"#9c179e\"], [0.4444444444444444, \"#bd3786\"], [0.5555555555555556, \"#d8576b\"], [0.6666666666666666, \"#ed7953\"], [0.7777777777777778, \"#fb9f3a\"], [0.8888888888888888, \"#fdca26\"], [1.0, \"#f0f921\"]], \"type\": \"histogram2d\"}], \"histogram2dcontour\": [{\"colorbar\": {\"outlinewidth\": 0, \"ticks\": \"\"}, \"colorscale\": [[0.0, \"#0d0887\"], [0.1111111111111111, \"#46039f\"], [0.2222222222222222, \"#7201a8\"], [0.3333333333333333, \"#9c179e\"], [0.4444444444444444, \"#bd3786\"], [0.5555555555555556, \"#d8576b\"], [0.6666666666666666, \"#ed7953\"], [0.7777777777777778, \"#fb9f3a\"], [0.8888888888888888, \"#fdca26\"], [1.0, \"#f0f921\"]], \"type\": \"histogram2dcontour\"}], \"mesh3d\": [{\"colorbar\": {\"outlinewidth\": 0, \"ticks\": \"\"}, \"type\": \"mesh3d\"}], \"parcoords\": [{\"line\": {\"colorbar\": {\"outlinewidth\": 0, \"ticks\": \"\"}}, \"type\": \"parcoords\"}], \"pie\": [{\"automargin\": true, \"type\": \"pie\"}], \"scatter\": [{\"marker\": {\"colorbar\": {\"outlinewidth\": 0, \"ticks\": \"\"}}, \"type\": \"scatter\"}], \"scatter3d\": [{\"line\": {\"colorbar\": {\"outlinewidth\": 0, \"ticks\": \"\"}}, \"marker\": {\"colorbar\": {\"outlinewidth\": 0, \"ticks\": \"\"}}, \"type\": \"scatter3d\"}], \"scattercarpet\": [{\"marker\": {\"colorbar\": {\"outlinewidth\": 0, \"ticks\": \"\"}}, \"type\": \"scattercarpet\"}], \"scattergeo\": [{\"marker\": {\"colorbar\": {\"outlinewidth\": 0, \"ticks\": \"\"}}, \"type\": \"scattergeo\"}], \"scattergl\": [{\"marker\": {\"colorbar\": {\"outlinewidth\": 0, \"ticks\": \"\"}}, \"type\": \"scattergl\"}], \"scattermapbox\": [{\"marker\": {\"colorbar\": {\"outlinewidth\": 0, \"ticks\": \"\"}}, \"type\": \"scattermapbox\"}], \"scatterpolar\": [{\"marker\": {\"colorbar\": {\"outlinewidth\": 0, \"ticks\": \"\"}}, \"type\": \"scatterpolar\"}], \"scatterpolargl\": [{\"marker\": {\"colorbar\": {\"outlinewidth\": 0, \"ticks\": \"\"}}, \"type\": \"scatterpolargl\"}], \"scatterternary\": [{\"marker\": {\"colorbar\": {\"outlinewidth\": 0, \"ticks\": \"\"}}, \"type\": \"scatterternary\"}], \"surface\": [{\"colorbar\": {\"outlinewidth\": 0, \"ticks\": \"\"}, \"colorscale\": [[0.0, \"#0d0887\"], [0.1111111111111111, \"#46039f\"], [0.2222222222222222, \"#7201a8\"], [0.3333333333333333, \"#9c179e\"], [0.4444444444444444, \"#bd3786\"], [0.5555555555555556, \"#d8576b\"], [0.6666666666666666, \"#ed7953\"], [0.7777777777777778, \"#fb9f3a\"], [0.8888888888888888, \"#fdca26\"], [1.0, \"#f0f921\"]], \"type\": \"surface\"}], \"table\": [{\"cells\": {\"fill\": {\"color\": \"#EBF0F8\"}, \"line\": {\"color\": \"white\"}}, \"header\": {\"fill\": {\"color\": \"#C8D4E3\"}, \"line\": {\"color\": \"white\"}}, \"type\": \"table\"}]}, \"layout\": {\"annotationdefaults\": {\"arrowcolor\": \"#2a3f5f\", \"arrowhead\": 0, \"arrowwidth\": 1}, \"coloraxis\": {\"colorbar\": {\"outlinewidth\": 0, \"ticks\": \"\"}}, \"colorscale\": {\"diverging\": [[0, \"#8e0152\"], [0.1, \"#c51b7d\"], [0.2, \"#de77ae\"], [0.3, \"#f1b6da\"], [0.4, \"#fde0ef\"], [0.5, \"#f7f7f7\"], [0.6, \"#e6f5d0\"], [0.7, \"#b8e186\"], [0.8, \"#7fbc41\"], [0.9, \"#4d9221\"], [1, \"#276419\"]], \"sequential\": [[0.0, \"#0d0887\"], [0.1111111111111111, \"#46039f\"], [0.2222222222222222, \"#7201a8\"], [0.3333333333333333, \"#9c179e\"], [0.4444444444444444, \"#bd3786\"], [0.5555555555555556, \"#d8576b\"], [0.6666666666666666, \"#ed7953\"], [0.7777777777777778, \"#fb9f3a\"], [0.8888888888888888, \"#fdca26\"], [1.0, \"#f0f921\"]], \"sequentialminus\": [[0.0, \"#0d0887\"], [0.1111111111111111, \"#46039f\"], [0.2222222222222222, \"#7201a8\"], [0.3333333333333333, \"#9c179e\"], [0.4444444444444444, \"#bd3786\"], [0.5555555555555556, \"#d8576b\"], [0.6666666666666666, \"#ed7953\"], [0.7777777777777778, \"#fb9f3a\"], [0.8888888888888888, \"#fdca26\"], [1.0, \"#f0f921\"]]}, \"colorway\": [\"#636efa\", \"#EF553B\", \"#00cc96\", \"#ab63fa\", \"#FFA15A\", \"#19d3f3\", \"#FF6692\", \"#B6E880\", \"#FF97FF\", \"#FECB52\"], \"font\": {\"color\": \"#2a3f5f\"}, \"geo\": {\"bgcolor\": \"white\", \"lakecolor\": \"white\", \"landcolor\": \"#E5ECF6\", \"showlakes\": true, \"showland\": true, \"subunitcolor\": \"white\"}, \"hoverlabel\": {\"align\": \"left\"}, \"hovermode\": \"closest\", \"mapbox\": {\"style\": \"light\"}, \"paper_bgcolor\": \"white\", \"plot_bgcolor\": \"#E5ECF6\", \"polar\": {\"angularaxis\": {\"gridcolor\": \"white\", \"linecolor\": \"white\", \"ticks\": \"\"}, \"bgcolor\": \"#E5ECF6\", \"radialaxis\": {\"gridcolor\": \"white\", \"linecolor\": \"white\", \"ticks\": \"\"}}, \"scene\": {\"xaxis\": {\"backgroundcolor\": \"#E5ECF6\", \"gridcolor\": \"white\", \"gridwidth\": 2, \"linecolor\": \"white\", \"showbackground\": true, \"ticks\": \"\", \"zerolinecolor\": \"white\"}, \"yaxis\": {\"backgroundcolor\": \"#E5ECF6\", \"gridcolor\": \"white\", \"gridwidth\": 2, \"linecolor\": \"white\", \"showbackground\": true, \"ticks\": \"\", \"zerolinecolor\": \"white\"}, \"zaxis\": {\"backgroundcolor\": \"#E5ECF6\", \"gridcolor\": \"white\", \"gridwidth\": 2, \"linecolor\": \"white\", \"showbackground\": true, \"ticks\": \"\", \"zerolinecolor\": \"white\"}}, \"shapedefaults\": {\"line\": {\"color\": \"#2a3f5f\"}}, \"ternary\": {\"aaxis\": {\"gridcolor\": \"white\", \"linecolor\": \"white\", \"ticks\": \"\"}, \"baxis\": {\"gridcolor\": \"white\", \"linecolor\": \"white\", \"ticks\": \"\"}, \"bgcolor\": \"#E5ECF6\", \"caxis\": {\"gridcolor\": \"white\", \"linecolor\": \"white\", \"ticks\": \"\"}}, \"title\": {\"x\": 0.05}, \"xaxis\": {\"automargin\": true, \"gridcolor\": \"white\", \"linecolor\": \"white\", \"ticks\": \"\", \"title\": {\"standoff\": 15}, \"zerolinecolor\": \"white\", \"zerolinewidth\": 2}, \"yaxis\": {\"automargin\": true, \"gridcolor\": \"white\", \"linecolor\": \"white\", \"ticks\": \"\", \"title\": {\"standoff\": 15}, \"zerolinecolor\": \"white\", \"zerolinewidth\": 2}}}, \"title\": {\"text\": \"Comment sentiment in r/worldnews for the past 48h\"}, \"xaxis\": {\"anchor\": \"y\", \"domain\": [0.0, 1.0], \"title\": {\"text\": \"Date comment was posted\"}}, \"yaxis\": {\"anchor\": \"x\", \"domain\": [0.0, 1.0], \"title\": {\"text\": \"Comment positivity\"}}},\n",
       "                        {\"responsive\": true}\n",
       "                    ).then(function(){\n",
       "                            \n",
       "var gd = document.getElementById('55324515-affc-49f8-b0f9-fc631df8646d');\n",
       "var x = new MutationObserver(function (mutations, observer) {{\n",
       "        var display = window.getComputedStyle(gd).display;\n",
       "        if (!display || display === 'none') {{\n",
       "            console.log([gd, 'removed!']);\n",
       "            Plotly.purge(gd);\n",
       "            observer.disconnect();\n",
       "        }}\n",
       "}});\n",
       "\n",
       "// Listen for the removal of the full notebook cells\n",
       "var notebookContainer = gd.closest('#notebook-container');\n",
       "if (notebookContainer) {{\n",
       "    x.observe(notebookContainer, {childList: true});\n",
       "}}\n",
       "\n",
       "// Listen for the clearing of the current output cell\n",
       "var outputEl = gd.closest('.output');\n",
       "if (outputEl) {{\n",
       "    x.observe(outputEl, {childList: true});\n",
       "}}\n",
       "\n",
       "                        })\n",
       "                };\n",
       "                });\n",
       "            </script>\n",
       "        </div>"
      ]
     },
     "metadata": {},
     "output_type": "display_data"
    }
   ],
   "source": [
    "#make visual with plotly\n",
    "px.scatter(df, x=\"date\", # date on the x axis\n",
    "               y=\"sentiment_polarity\", # sentiment on the y axis\n",
    "               hover_data=[\"author\", \"permalink\", \"preview\"], # data to show on hover\n",
    "               color_discrete_sequence=[\"lightseagreen\", \"indianred\"], # colors to use\n",
    "               color=\"sentiment\", # what should the color depend on?\n",
    "               size=\"score\", # the more votes, the bigger the circle\n",
    "               size_max=10, # not too big\n",
    "               labels={\"sentiment_polarity\": \"Comment positivity\", \"date\": \"Date comment was posted\"}, # axis names\n",
    "               title=f\"Comment sentiment in r/worldnews for the past 48h\", # title of figure\n",
    "          )"
   ]
  },
  {
   "cell_type": "markdown",
   "metadata": {},
   "source": [
    "## Summary\n",
    "\n",
    "Herein sentiment anlaysis has been performed on comments from reddit on the key phrase 'regenerative agriculture'. The same work completed above could be utilized for searches of various relevant keywords.  It would be of use to have a dashboard for auto-updating.  "
   ]
  },
  {
   "cell_type": "markdown",
   "metadata": {},
   "source": [
    "### Future Tasks:  \n",
    "\n",
    "1. Find alternate endoint apis\n",
    "   - Reddit tends to get off in the weeds, so some comments related to regenerative ag are on posts that have nothing to do with the topic.\n",
    "   - Test and make sure above works given alternate endpoints.  \n",
    "2. Create sharable link\n",
    "    - Packages to consider for this: docker, jupyter dashboard (extension), ipywidgets"
   ]
  },
  {
   "cell_type": "markdown",
   "metadata": {},
   "source": [
    "## Watermark"
   ]
  },
  {
   "cell_type": "code",
   "execution_count": 51,
   "metadata": {},
   "outputs": [
    {
     "name": "stdout",
     "output_type": "stream",
     "text": [
      "The watermark extension is already loaded. To reload it, use:\n",
      "  %reload_ext watermark\n",
      "H.GRYK 2021-01-06 16:10:05 \n",
      "\n",
      "CPython 3.7.7\n",
      "IPython 7.18.1\n",
      "\n",
      "sys 3.7.7 (default, May  6 2020, 11:45:54) [MSC v.1916 64 bit (AMD64)]\n",
      "pandas 1.0.5\n",
      "textblob 0.15.3\n",
      "plotly 4.9.0\n",
      "requests 2.24.0\n"
     ]
    }
   ],
   "source": [
    "# use watermark in a notebook with the following call\n",
    "%load_ext watermark\n",
    "\n",
    "# %watermark? #<-- watermark documentation\n",
    "\n",
    "%watermark -a \"H.GRYK\" -d -t -v -p sys\n",
    "%watermark -p pandas\n",
    "%watermark -p textblob\n",
    "%watermark -p plotly\n",
    "%watermark -p requests"
   ]
  },
  {
   "cell_type": "code",
   "execution_count": null,
   "metadata": {},
   "outputs": [],
   "source": []
  }
 ],
 "metadata": {
  "kernelspec": {
   "display_name": "Python 3",
   "language": "python",
   "name": "python3"
  },
  "language_info": {
   "codemirror_mode": {
    "name": "ipython",
    "version": 3
   },
   "file_extension": ".py",
   "mimetype": "text/x-python",
   "name": "python",
   "nbconvert_exporter": "python",
   "pygments_lexer": "ipython3",
   "version": "3.8.3"
  }
 },
 "nbformat": 4,
 "nbformat_minor": 4
}
