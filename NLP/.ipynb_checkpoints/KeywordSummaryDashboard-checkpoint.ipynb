{
 "cells": [
  {
   "cell_type": "markdown",
   "metadata": {
    "extensions": {
     "jupyter_dashboards": {
      "version": 1,
      "views": {
       "grid_default": {},
       "report_default": {
        "hidden": false
       }
      }
     }
    }
   },
   "source": [
    "# Keyword and Summary Dashboard"
   ]
  },
  {
   "cell_type": "code",
   "execution_count": 7,
   "metadata": {
    "extensions": {
     "jupyter_dashboards": {
      "version": 1,
      "views": {
       "grid_default": {},
       "report_default": {
        "hidden": false
       }
      }
     }
    },
    "scrolled": true
   },
   "outputs": [
    {
     "name": "stdout",
     "output_type": "stream",
     "text": [
      "Enter pdf filename or an URL: \n",
      "https://boards.greenhouse.io/invitae/jobs/2564669?gh_jid=2564669\n"
     ]
    }
   ],
   "source": [
    "# load functions\n",
    "# Load the \"autoreload\" extension\n",
    "#%load_ext autoreload\n",
    "# Always reload all modules (except those excluded by %aimport)\n",
    "%autoreload 2\n",
    "import os\n",
    "import sys\n",
    "from pathlib import Path\n",
    "import utils\n",
    "import validators\n",
    "\n",
    "import ipywidgets as widgets\n",
    "from ipywidgets import interact, interact_manual\n",
    "\n",
    "#Provide pdf file name or url. If no filename or url is provided ask again\n",
    "#check if the provided is an url or pdf file. If none, print error message\n",
    "\n",
    "\n",
    "\n",
    "\n",
    "file_url=''\n",
    "file_url= input('Enter pdf filename or an URL: \\n')\n",
    "# works: https://www.klei.com/games/dont-starve-together\n",
    "# doesn't work: \n",
    "\n",
    "while file_url == '':\n",
    "    file_url = input('No pdf filename or url provided, please provide one: \\n')\n",
    "    \n",
    "if validators.url(file_url) == True:\n",
    "    text=utils.convert_url_to_string(file_url)\n",
    "elif file_url[-3:]=='pdf':\n",
    "    text=utils.convert_pdf_to_string(DATA_PATH_IN/file_url)\n",
    "    print('Total number of pages in this PDF are: {}'.format(utils.total_num_pages(DATA_PATH_IN,file_url))) # will give total number of pages in pdf\n",
    "else:\n",
    "    print (\"Not a valid URL or Not a PDF file\")\n",
    "    \n",
    "# summary\n",
    "summary,summary_list=utils.key_summaries(text)\n",
    "# keywords\n",
    "kws,scores,df=utils.keywords_scores(text)\n",
    "# key phrases\n",
    "key_phr,key_phr_score_df=utils.key_phrases_rake(text)"
   ]
  },
  {
   "cell_type": "markdown",
   "metadata": {},
   "source": [
    "## Summary "
   ]
  },
  {
   "cell_type": "code",
   "execution_count": 8,
   "metadata": {
    "extensions": {
     "jupyter_dashboards": {
      "version": 1,
      "views": {
       "grid_default": {},
       "report_default": {
        "hidden": false
       }
      }
     }
    },
    "scrolled": true
   },
   "outputs": [
    {
     "data": {
      "text/plain": [
       "['Invitae is seeking a Regional Manager (RM) for our Cardio/Neuro/Pediataric (CNP) team to develop and grow a territory and to exceed sales goals for Invitae’s fully informative genetic testing menu.',\n",
       " 'The RM will be responsible for managing business results, sales activities, and cross-functional initiatives in their respective territory.',\n",
       " 'He/She will be responsible for making the day-to-day decisions required to manage a productive territory, retain existing customer base of business while growing sales through new account acquisition.',\n",
       " 'Securing and analyzing relevant information, knowledge of territory, market intelligence, environmental factors and political landscape, to identify key issues and committing to action after developing alternative solutions that take into consideration strategic objectives, resource constraints and organizational values.',\n",
       " 'Knowledge and application of strategic planning, and development sales strategy and tactical implementation within your specified territory.',\n",
       " 'Please selectI will now, or in the future require employer sponsorship to obtain work authorization in the country in which this position is based.',\n",
       " 'Individuals seeking employment at Invitae are considered without regards to race, color, religion, national origin, age, sex, marital status, ancestry, physical or mental disability, veteran status, gender identity, or sexual orientation.']"
      ]
     },
     "execution_count": 8,
     "metadata": {},
     "output_type": "execute_result"
    }
   ],
   "source": [
    "summary_list"
   ]
  },
  {
   "cell_type": "markdown",
   "metadata": {},
   "source": [
    "## Key Phrases"
   ]
  },
  {
   "cell_type": "code",
   "execution_count": 9,
   "metadata": {
    "extensions": {
     "jupyter_dashboards": {
      "version": 1,
      "views": {
       "grid_default": {},
       "report_default": {
        "hidden": false
       }
      }
     }
    }
   },
   "outputs": [
    {
     "data": {
      "text/plain": [
       "['job required first name last name email phone location city resume cv drop files',\n",
       " 'attach dropbox google drive paste linkedin profile website work authorization please select',\n",
       " 'jobs remote position summary regional manager cardiology neurology pediatrics territory includes indiana',\n",
       " 'race color religion national origin age sex marital status ancestry physical',\n",
       " 'attach dropbox google drive paste cover letter drop files',\n",
       " 'cardiology clinical communities preferred hospital institution market business acumen current experience',\n",
       " 'position covering several states requiring frequent travel primary responsibilities',\n",
       " 'answer form cc omb control number expires voluntary self identification',\n",
       " 'state equal employment opportunity affirmative action record keeping reporting',\n",
       " 'www dol gov ofccp public burden statement according']"
      ]
     },
     "execution_count": 9,
     "metadata": {},
     "output_type": "execute_result"
    }
   ],
   "source": [
    "key_phr"
   ]
  },
  {
   "cell_type": "markdown",
   "metadata": {},
   "source": [
    "## Keywords"
   ]
  },
  {
   "cell_type": "code",
   "execution_count": 10,
   "metadata": {
    "extensions": {
     "jupyter_dashboards": {
      "version": 1,
      "views": {
       "grid_default": {},
       "report_default": {
        "hidden": true
       }
      }
     }
    },
    "scrolled": true
   },
   "outputs": [
    {
     "data": {
      "text/plain": [
       "['act',\n",
       " 'ability',\n",
       " 'sales',\n",
       " 'business',\n",
       " 'territory',\n",
       " 'work',\n",
       " 'service',\n",
       " 'contract',\n",
       " 'industry',\n",
       " 'customer']"
      ]
     },
     "execution_count": 10,
     "metadata": {},
     "output_type": "execute_result"
    }
   ],
   "source": [
    "kws"
   ]
  },
  {
   "cell_type": "code",
   "execution_count": null,
   "metadata": {},
   "outputs": [],
   "source": []
  }
 ],
 "metadata": {
  "extensions": {
   "jupyter_dashboards": {
    "activeView": "report_default",
    "version": 1,
    "views": {
     "grid_default": {
      "cellMargin": 10,
      "defaultCellHeight": 20,
      "maxColumns": 12,
      "name": "grid",
      "type": "grid"
     },
     "report_default": {
      "name": "report",
      "type": "report"
     }
    }
   }
  },
  "kernelspec": {
   "display_name": "Python 3",
   "language": "python",
   "name": "python3"
  },
  "language_info": {
   "codemirror_mode": {
    "name": "ipython",
    "version": 3
   },
   "file_extension": ".py",
   "mimetype": "text/x-python",
   "name": "python",
   "nbconvert_exporter": "python",
   "pygments_lexer": "ipython3",
   "version": "3.7.7"
  }
 },
 "nbformat": 4,
 "nbformat_minor": 4
}
