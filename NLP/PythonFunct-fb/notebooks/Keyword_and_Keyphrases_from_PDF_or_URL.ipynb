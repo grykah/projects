{
 "cells": [
  {
   "cell_type": "code",
   "execution_count": 1,
   "metadata": {},
   "outputs": [],
   "source": [
    "# Load the \"autoreload\" extension\n",
    "%load_ext autoreload\n",
    "# Always reload all modules (except those excluded by %aimport)\n",
    "%autoreload 2\n",
    "import os\n",
    "import sys\n",
    "from pathlib import Path\n",
    "\n",
    "\n",
    "# add the 'src' directory as the one we can import from\n",
    "src_dir = str(Path(os.getcwd(), '..', 'src'))\n",
    "sys.path.append(src_dir)\n",
    "\n",
    "#Input data folder path\n",
    "DATA_PATH_IN=Path(os.getcwd(), '..', 'data','input')\n",
    "\n",
    "#DATA_PATH \n",
    "DATA_PATH=Path(os.getcwd(),'..','data')\n",
    "\n",
    "import utils\n",
    "\n",
    "import validators"
   ]
  },
  {
   "cell_type": "code",
   "execution_count": 2,
   "metadata": {},
   "outputs": [
    {
     "name": "stdout",
     "output_type": "stream",
     "text": [
      "Enter pdf filename or an URL: \n",
      "JavaBasics-notes.pdf\n",
      "Total number of pages in this PDF are: 23\n"
     ]
    }
   ],
   "source": [
    "#Provide pdf file name or url. If no filename or url is provided ask again\n",
    "#check if the provided is an url or pdf file. If none, print error message\n",
    "\n",
    "file_url=''\n",
    "file_url=input('Enter pdf filename or an URL: \\n')\n",
    "\n",
    "while file_url == '':\n",
    "    file_url = input('No pdf filename or url provided, please provide one: \\n')\n",
    "    \n",
    "if validators.url(file_url) == True:\n",
    "    text=utils.convert_url_to_string(file_url)\n",
    "elif file_url[-3:]=='pdf':\n",
    "    text=utils.convert_pdf_to_string(DATA_PATH_IN/file_url)\n",
    "    print('Total number of pages in this PDF are: {}'.format(utils.total_num_pages(DATA_PATH_IN,file_url))) # will give total number of pages in pdf\n",
    "else:\n",
    "    print (\"Not a valid URL or Not a PDF file\")\n"
   ]
  },
  {
   "cell_type": "markdown",
   "metadata": {},
   "source": [
    "### Keywords"
   ]
  },
  {
   "cell_type": "code",
   "execution_count": 7,
   "metadata": {},
   "outputs": [
    {
     "data": {
      "text/plain": [
       "['new',\n",
       " 'obj',\n",
       " 'object',\n",
       " 'code',\n",
       " 'applet',\n",
       " 'method',\n",
       " 'data',\n",
       " 'public',\n",
       " 'define',\n",
       " 'void']"
      ]
     },
     "execution_count": 7,
     "metadata": {},
     "output_type": "execute_result"
    }
   ],
   "source": [
    "#Gensim keywords\n",
    "kws,scores,df=utils.keywords_scores(text)\n",
    "kws"
   ]
  },
  {
   "cell_type": "markdown",
   "metadata": {},
   "source": [
    "### Keyphrases"
   ]
  },
  {
   "cell_type": "code",
   "execution_count": 4,
   "metadata": {},
   "outputs": [
    {
     "data": {
      "text/plain": [
       "['following primitive types primitive types primitive type description boolean true false byte char short int long float double bits bits unicode bits bits bits bits ieee bits ieee java int types may',\n",
       " 'awt class definitions import java awt public class applettemplate extends applet public void init create gui initialize applet public void start start threads animations etc public void paint graphics g draw things',\n",
       " 'browser window import java applet applet import java awt graphics public class trivialapplet extends applet public void paint graphics g display',\n",
       " 'boolean expr stat else stat switch int expr case int const expr stat case int const expr stat default stat',\n",
       " 'applet import java applet applet public class paramtest extends applet public void init system',\n",
       " 'g public void stop suspend threads stop animations etc public void destroy free',\n",
       " 'unicode character constant u ae boolean literal int constant float constant true false',\n",
       " 'applet code appletname class width height param name p value param name p value test applet',\n",
       " 'namelist integer max_value obj member npackage class package obj id e f g',\n",
       " 'c c code c code int foo int j return j button bfoo button b']"
      ]
     },
     "execution_count": 4,
     "metadata": {},
     "output_type": "execute_result"
    }
   ],
   "source": [
    "key_phr,key_phr_score_df=utils.key_phrases_rake(text)\n",
    "key_phr"
   ]
  },
  {
   "cell_type": "markdown",
   "metadata": {},
   "source": [
    "### Summaries/Phrases"
   ]
  },
  {
   "cell_type": "code",
   "execution_count": 5,
   "metadata": {},
   "outputs": [
    {
     "data": {
      "text/plain": [
       "['•  What makes Java programs portable, secure, and robust',\n",
       " '•  The structure of Java applets and applications',\n",
       " 'Three features make Java String programs portable:',\n",
       " 'The Java language is completely specified; all data-type sizes and',\n",
       " 'A file containing Java source code is considered a compilation unit.',\n",
       " 'This method is called once after init() and whenever your applet is',\n",
       " 'This method is called when the applet drawing area needs',\n",
       " 'This method is called when an applet terminates, for example, when',\n",
       " 'A Java variable may refer to an object, an array, or an item of primitive type.',\n",
       " 'memory on the stack for a Button object and makes b refer to it.',\n",
       " 'must specifically instantiate Java objects with the new operator.',\n",
       " 'Each Java primitive type has an equivalent object type, e.g., Integer, Byte,',\n",
       " 'To allocate an array, use the new operator:',\n",
       " 'int[] a = new int[5];  // Java code: make array of 5 ints',\n",
       " 'An array of Java objects such as',\n",
       " 'An array of Java objects such as',\n",
       " '// Java code: make array of 5 references to Buttons',\n",
       " 'instantiates a new object or class T',\n",
       " 'semantics.\" This means that Java objects are passed to methods by reference in',\n",
       " 'Java objects are passed by reference.',\n",
       " 'The following Java method']"
      ]
     },
     "execution_count": 5,
     "metadata": {},
     "output_type": "execute_result"
    }
   ],
   "source": [
    "summary,summary_list=utils.key_summaries(text)\n",
    "summary_list"
   ]
  },
  {
   "cell_type": "code",
   "execution_count": null,
   "metadata": {},
   "outputs": [],
   "source": []
  }
 ],
 "metadata": {
  "kernelspec": {
   "display_name": "Python 3",
   "language": "python",
   "name": "python3"
  },
  "language_info": {
   "codemirror_mode": {
    "name": "ipython",
    "version": 3
   },
   "file_extension": ".py",
   "mimetype": "text/x-python",
   "name": "python",
   "nbconvert_exporter": "python",
   "pygments_lexer": "ipython3",
   "version": "3.7.6"
  }
 },
 "nbformat": 4,
 "nbformat_minor": 4
}
